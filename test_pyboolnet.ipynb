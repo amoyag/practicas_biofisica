{
 "nbformat": 4,
 "nbformat_minor": 0,
 "metadata": {
  "colab": {
   "provenance": [],
   "mount_file_id": "1YawJ-MX9td9l0t0zCVS6GAeNsGdfXfgC",
   "authorship_tag": "ABX9TyO+LKJ/Y9GwQoeW3thLyzcQ"
  },
  "kernelspec": {
   "name": "python3",
   "language": "python",
   "display_name": "Python 3 (ipykernel)"
  },
  "language_info": {
   "name": "python"
  }
 },
 "cells": [
  {
   "cell_type": "markdown",
   "source": [
    "# Analysis of biological circuits   \n",
    "\n",
    "## First circuit. The Feedforward loop\n",
    "\n",
    "A Feedforward Loop (FFL) is a common and important motif found in biological networks, especially in gene regulatory networks. It consists of three elements (such as genes or proteins) and the connections between them, forming a directed network. In an FFL, one element regulates a second, which in turn regulates a third, and additionally, the first element also directly regulates the third. This creates a loop with two pathways from the first to the third element: a direct one and an indirect one that goes through the second element.\n",
    "\n",
    "We will use boolean networks where the relationships (activation or inhibition) between the elements of the circuits are logical functions (AND, OR, NOT). For instance, let's define the following FFL:\n",
    "\n",
    "---\n",
    "    X inhibits Y\n",
    "    Y activates Z\n",
    "    X inhibits Z\n",
    "---\n",
    "The representation of this FFL in .bnet notation (a common format for boolean networks) is:\n",
    "\n",
    "    X, <Boolean function for X>\n",
    "    Y, !X\n",
    "    Z, Y and !X\n",
    "    \n",
    "\n",
    "Based on the description of your feedforward loop (FFL), where X inhibits Y, Y activates Z, and X also inhibits Z, the `.bnet` representation would look like this:\n",
    "\n",
    "```\n",
    "X, <Boolean function for X>\n",
    "Y, !X\n",
    "Z, Y and !X\n",
    "```\n",
    "\n",
    "In this representation:\n",
    "- `X` is a node whose behavior or state is determined by some other factors not specified in the FFL. Therefore, its Boolean function will depend on external inputs or conditions, which is why we have `<Boolean function for X>`. If X is always active or its state is constant, we can replace this with `True` or `False` accordingly.\n",
    "- `Y` is inhibited by `X`, which is represented by `!X`, meaning `Y` is active when `X` is not active.\n",
    "- `Z` is activated by `Y` and inhibited by `X`. The `and` logic in `Y and !X` means that `Z` is active only when `Y` is active and `X` is not active. \n",
    "\n",
    "This setup creates an incoherent type 1 feedforward loop, as the direct regulation (X inhibiting Z) is opposite in effect to the indirect regulation (X inhibiting Y, and Y activating Z).\n",
    "\n",
    "### Types of FFL\n",
    "There are different types of FFLs based on the nature of the regulatory interactions (activation or inhibition). The most common types are:\n",
    "\n",
    "-   Coherent FFL: Where the direct and indirect pathways act in the same way (both activating or both inhibiting) on the target gene.\n",
    "-   Incoherent FFL: Where the direct and indirect pathways have opposite effects on the target gene.\n",
    "\n",
    "FFLs are important in signal transduction because they can filter noise. FFLs, especially the type 1 coherent FFL (C1-FFL), are believed to evolve to filter out short spurious signals. This adaptive feature helps in distinguishing between short-lived noise and sustained signals, contributing to more reliable responses.\n",
    "\n",
    "\n",
    "\n",
    "\n",
    "Prueba de PyBoolNet.\n",
    "\n",
    "Installation instructtions and manual [here.](https://pyboolnet.readthedocs.io/en/master/installation.html)"
   ],
   "metadata": {
    "id": "o-4I1P-kiScA"
   }
  },
  {
   "cell_type": "markdown",
   "source": [
    "## Install library"
   ],
   "metadata": {
    "id": "WfWpKTM2iqZ4"
   }
  },
  {
   "cell_type": "code",
   "execution_count": 2,
   "metadata": {
    "colab": {
     "base_uri": "https://localhost:8080/"
    },
    "id": "cxjIJz8ihoMc",
    "executionInfo": {
     "status": "ok",
     "timestamp": 1701084655253,
     "user_tz": -60,
     "elapsed": 31999,
     "user": {
      "displayName": "Aurelio Angel Moya Garcia",
      "userId": "06239010930884764093"
     }
    },
    "outputId": "b7c9e7ae-f9cd-478e-d583-57bd4c039998",
    "ExecuteTime": {
     "end_time": "2023-11-27T11:47:06.716805Z",
     "start_time": "2023-11-27T11:46:41.053704Z"
    }
   },
   "outputs": [
    {
     "name": "stdout",
     "output_type": "stream",
     "text": [
      "\u001B[33mDEPRECATION: Loading egg at /opt/homebrew/anaconda3/lib/python3.11/site-packages/stringdb-0.1.5-py3.11.egg is deprecated. pip 23.3 will enforce this behaviour change. A possible replacement is to use pip for package installation..\u001B[0m\u001B[33m\r\n",
      "\u001B[0mRequirement already satisfied: networkx in /opt/homebrew/anaconda3/lib/python3.11/site-packages (3.1)\r\n",
      "\u001B[33mDEPRECATION: Loading egg at /opt/homebrew/anaconda3/lib/python3.11/site-packages/stringdb-0.1.5-py3.11.egg is deprecated. pip 23.3 will enforce this behaviour change. A possible replacement is to use pip for package installation..\u001B[0m\u001B[33m\r\n",
      "\u001B[0mCollecting git+https://github.com/hklarner/pyboolnet\r\n",
      "  Cloning https://github.com/hklarner/pyboolnet to /private/var/folders/mh/39ly_9sn6x3czzxc440sh1ww0000gn/T/pip-req-build-qb5m9tzg\r\n",
      "  Running command git clone --filter=blob:none --quiet https://github.com/hklarner/pyboolnet /private/var/folders/mh/39ly_9sn6x3czzxc440sh1ww0000gn/T/pip-req-build-qb5m9tzg\r\n",
      "  Resolved https://github.com/hklarner/pyboolnet to commit 0f209cc7ba0d596f790b9584add27485879fe695\r\n",
      "  Preparing metadata (setup.py) ... \u001B[?25ldone\r\n",
      "\u001B[?25hRequirement already satisfied: networkx>=2.4 in /opt/homebrew/anaconda3/lib/python3.11/site-packages (from pyboolnet==3.0.11) (3.1)\r\n",
      "Requirement already satisfied: pytest in /opt/homebrew/anaconda3/lib/python3.11/site-packages (from pyboolnet==3.0.11) (7.4.0)\r\n",
      "Requirement already satisfied: click>=8.0.1 in /opt/homebrew/anaconda3/lib/python3.11/site-packages (from pyboolnet==3.0.11) (8.1.7)\r\n",
      "Requirement already satisfied: matplotlib>=3.3.3 in /opt/homebrew/anaconda3/lib/python3.11/site-packages (from pyboolnet==3.0.11) (3.8.0)\r\n",
      "Requirement already satisfied: contourpy>=1.0.1 in /opt/homebrew/anaconda3/lib/python3.11/site-packages (from matplotlib>=3.3.3->pyboolnet==3.0.11) (1.0.5)\r\n",
      "Requirement already satisfied: cycler>=0.10 in /opt/homebrew/anaconda3/lib/python3.11/site-packages (from matplotlib>=3.3.3->pyboolnet==3.0.11) (0.11.0)\r\n",
      "Requirement already satisfied: fonttools>=4.22.0 in /opt/homebrew/anaconda3/lib/python3.11/site-packages (from matplotlib>=3.3.3->pyboolnet==3.0.11) (4.25.0)\r\n",
      "Requirement already satisfied: kiwisolver>=1.0.1 in /opt/homebrew/anaconda3/lib/python3.11/site-packages (from matplotlib>=3.3.3->pyboolnet==3.0.11) (1.4.4)\r\n",
      "Requirement already satisfied: numpy<2,>=1.21 in /opt/homebrew/anaconda3/lib/python3.11/site-packages (from matplotlib>=3.3.3->pyboolnet==3.0.11) (1.24.3)\r\n",
      "Requirement already satisfied: packaging>=20.0 in /opt/homebrew/anaconda3/lib/python3.11/site-packages (from matplotlib>=3.3.3->pyboolnet==3.0.11) (23.1)\r\n",
      "Requirement already satisfied: pillow>=6.2.0 in /opt/homebrew/anaconda3/lib/python3.11/site-packages (from matplotlib>=3.3.3->pyboolnet==3.0.11) (10.0.1)\r\n",
      "Requirement already satisfied: pyparsing>=2.3.1 in /opt/homebrew/anaconda3/lib/python3.11/site-packages (from matplotlib>=3.3.3->pyboolnet==3.0.11) (3.0.9)\r\n",
      "Requirement already satisfied: python-dateutil>=2.7 in /opt/homebrew/anaconda3/lib/python3.11/site-packages (from matplotlib>=3.3.3->pyboolnet==3.0.11) (2.8.2)\r\n",
      "Requirement already satisfied: iniconfig in /opt/homebrew/anaconda3/lib/python3.11/site-packages (from pytest->pyboolnet==3.0.11) (1.1.1)\r\n",
      "Requirement already satisfied: pluggy<2.0,>=0.12 in /opt/homebrew/anaconda3/lib/python3.11/site-packages (from pytest->pyboolnet==3.0.11) (1.0.0)\r\n",
      "Requirement already satisfied: six>=1.5 in /opt/homebrew/anaconda3/lib/python3.11/site-packages (from python-dateutil>=2.7->matplotlib>=3.3.3->pyboolnet==3.0.11) (1.16.0)\r\n",
      "Building wheels for collected packages: pyboolnet\r\n",
      "  Building wheel for pyboolnet (setup.py) ... \u001B[?25ldone\r\n",
      "\u001B[?25h  Created wheel for pyboolnet: filename=pyboolnet-3.0.11-py3-none-any.whl size=6021817 sha256=aa5599f73bdf122741bc78de8743dedfb09a7f605c37b3f533601298d1388205\r\n",
      "  Stored in directory: /private/var/folders/mh/39ly_9sn6x3czzxc440sh1ww0000gn/T/pip-ephem-wheel-cache-_mo1_42g/wheels/cb/bc/d2/2363ba592b07b7c50cde122fda9520639a5be20bcded54edf0\r\n",
      "Successfully built pyboolnet\r\n",
      "Installing collected packages: pyboolnet\r\n",
      "Successfully installed pyboolnet-3.0.11\r\n"
     ]
    }
   ],
   "source": [
    "!pip3 install networkx\n",
    "!pip3 install git+https://github.com/hklarner/pyboolnet"
   ]
  },
  {
   "cell_type": "code",
   "source": [
    "import pyboolnet\n",
    "from pyboolnet import file_exchange # load and write the network to file\n",
    "from pyboolnet import interaction_graphs as ig # create the networkx graph\n",
    "import networkx as nx\n",
    "import matplotlib.pyplot as plt\n",
    "from pyboolnet import state_transition_graphs as STGs # To get the state transition graphs\n",
    "from pyboolnet import attractors as AD # To detect attractors"
   ],
   "metadata": {
    "id": "Jbpo74hConS5",
    "ExecuteTime": {
     "end_time": "2023-11-27T11:47:54.893009Z",
     "start_time": "2023-11-27T11:47:54.211419Z"
    }
   },
   "execution_count": 3,
   "outputs": []
  },
  {
   "cell_type": "markdown",
   "source": [
    "In Python we represent prime implicants as nested dictionaries and lists. The prime implicants of a network with three components v1, v2, v3 and three update functions f1, f2, f3 that are defined by:"
   ],
   "metadata": {
    "id": "0iFVvZdDob15"
   }
  },
  {
   "cell_type": "code",
   "source": [
    "bnet = \"\"\"\n",
    "  v1,   v2 & (!v1 | v3)\n",
    "  v2,   !v3\n",
    "  v3,   v2 | v1\n",
    "  \"\"\""
   ],
   "metadata": {
    "id": "_2f99gpJnv0t",
    "ExecuteTime": {
     "end_time": "2023-11-27T11:48:04.060262Z",
     "start_time": "2023-11-27T11:48:04.053409Z"
    }
   },
   "execution_count": 4,
   "outputs": []
  },
  {
   "cell_type": "code",
   "execution_count": 9,
   "outputs": [
    {
     "ename": "AttributeError",
     "evalue": "module 'pyboolnet' has no attribute 'repository'",
     "output_type": "error",
     "traceback": [
      "\u001B[0;31m---------------------------------------------------------------------------\u001B[0m",
      "\u001B[0;31mAttributeError\u001B[0m                            Traceback (most recent call last)",
      "Cell \u001B[0;32mIn[9], line 1\u001B[0m\n\u001B[0;32m----> 1\u001B[0m primes \u001B[38;5;241m=\u001B[39m pyboolnet\u001B[38;5;241m.\u001B[39mrepository\u001B[38;5;241m.\u001B[39mprimes_from_string(bnet)\n",
      "\u001B[0;31mAttributeError\u001B[0m: module 'pyboolnet' has no attribute 'repository'"
     ]
    }
   ],
   "source": [
    "primes = pyboolnet.repository.primes_from_string(bnet)"
   ],
   "metadata": {
    "collapsed": false,
    "ExecuteTime": {
     "end_time": "2023-11-27T11:54:15.357821Z",
     "start_time": "2023-11-27T11:54:15.303118Z"
    }
   }
  },
  {
   "cell_type": "code",
   "source": [
    "primes = file_exchange.bnet2primes(bnet)"
   ],
   "metadata": {
    "id": "74gUB5WZpd6R",
    "ExecuteTime": {
     "end_time": "2023-11-27T11:48:06.524655Z",
     "start_time": "2023-11-27T11:48:05.787968Z"
    }
   },
   "execution_count": 5,
   "outputs": []
  },
  {
   "cell_type": "markdown",
   "source": [
    "save primes as a bnet file. To do so use primes2bnet:"
   ],
   "metadata": {
    "id": "D12oyQt0sTPv"
   }
  },
  {
   "cell_type": "code",
   "source": [
    "file_exchange.primes2bnet(primes, \"example01.bnet\")"
   ],
   "metadata": {
    "colab": {
     "base_uri": "https://localhost:8080/",
     "height": 35
    },
    "id": "KCzFl97EqC2M",
    "executionInfo": {
     "status": "ok",
     "timestamp": 1701020015053,
     "user_tz": -60,
     "elapsed": 413,
     "user": {
      "displayName": "Aurelio Angel Moya Garcia",
      "userId": "06239010930884764093"
     }
    },
    "outputId": "3281c434-fe00-4aaa-95b2-8f6b42b6bcad"
   },
   "execution_count": null,
   "outputs": [
    {
     "output_type": "execute_result",
     "data": {
      "text/plain": [
       "'v1,   v2 & v3 | !v1 & v2\\nv2,   !v3\\nv3,   v2 | v1\\n'"
      ],
      "application/vnd.google.colaboratory.intrinsic+json": {
       "type": "string"
      }
     },
     "metadata": {},
     "execution_count": 36
    }
   ]
  },
  {
   "cell_type": "markdown",
   "source": [
    "# Examine the graph"
   ],
   "metadata": {
    "id": "XQADdN2CuSuF"
   }
  },
  {
   "cell_type": "code",
   "source": [
    "\n",
    "#bnet = \"\\n\".join([\"v1, v1|v3\",\"v2, 1\", \"v3, v1&!v2 | !v1&v2\"])\n",
    "#primes = FileExchange.bnet2primes(bnet)\n",
    "G = ig.primes2igraph(primes)\n",
    "\n",
    "### check edge attributes\n",
    "for u, v, attr in G.edges(data=True):\n",
    "    print(f\"Edge from {u} to {v} has attributes: {attr}\")\n",
    "\n",
    "\n",
    "\n",
    "G.edges(data=True)\n",
    "\n",
    "\n"
   ],
   "metadata": {
    "colab": {
     "base_uri": "https://localhost:8080/"
    },
    "id": "B2dOihgqs99T",
    "executionInfo": {
     "status": "ok",
     "timestamp": 1701021303875,
     "user_tz": -60,
     "elapsed": 315,
     "user": {
      "displayName": "Aurelio Angel Moya Garcia",
      "userId": "06239010930884764093"
     }
    },
    "outputId": "6c62daa3-d593-49d7-8900-7b000ccc6905",
    "ExecuteTime": {
     "end_time": "2023-11-27T11:48:18.489709Z",
     "start_time": "2023-11-27T11:48:18.484949Z"
    }
   },
   "execution_count": 6,
   "outputs": [
    {
     "name": "stdout",
     "output_type": "stream",
     "text": [
      "Edge from v1 to v1 has attributes: {'sign': {-1}}\n",
      "Edge from v1 to v3 has attributes: {'sign': {1}}\n",
      "Edge from v2 to v1 has attributes: {'sign': {1}}\n",
      "Edge from v2 to v3 has attributes: {'sign': {1}}\n",
      "Edge from v3 to v1 has attributes: {'sign': {1}}\n",
      "Edge from v3 to v2 has attributes: {'sign': {-1}}\n"
     ]
    },
    {
     "data": {
      "text/plain": "OutEdgeDataView([('v1', 'v1', {'sign': {-1}}), ('v1', 'v3', {'sign': {1}}), ('v2', 'v1', {'sign': {1}}), ('v2', 'v3', {'sign': {1}}), ('v3', 'v1', {'sign': {1}}), ('v3', 'v2', {'sign': {-1}})])"
     },
     "execution_count": 6,
     "metadata": {},
     "output_type": "execute_result"
    }
   ]
  },
  {
   "cell_type": "code",
   "source": [
    "## verify edge types\n",
    "\n",
    "for u, v, attr in G.edges(data=True):\n",
    "    edge_type = attr.get('sign')\n",
    "    if edge_type == {1}:\n",
    "        print(f\"Activator edge: {u} -> {v}\")\n",
    "    elif edge_type == {-1}:\n",
    "        print(f\"Inhibitor edge: {u} -| {v}\")\n",
    "    else:\n",
    "        print(f\"Edge {u} -> {v} has unknown or no type\")\n"
   ],
   "metadata": {
    "colab": {
     "base_uri": "https://localhost:8080/"
    },
    "id": "pEmH3EtCwttc",
    "executionInfo": {
     "status": "ok",
     "timestamp": 1701021350875,
     "user_tz": -60,
     "elapsed": 295,
     "user": {
      "displayName": "Aurelio Angel Moya Garcia",
      "userId": "06239010930884764093"
     }
    },
    "outputId": "a8223bd8-52e2-4068-91c9-32d0d5152c8b",
    "ExecuteTime": {
     "end_time": "2023-11-27T11:48:23.029524Z",
     "start_time": "2023-11-27T11:48:23.024653Z"
    }
   },
   "execution_count": 7,
   "outputs": [
    {
     "name": "stdout",
     "output_type": "stream",
     "text": [
      "Inhibitor edge: v1 -| v1\n",
      "Activator edge: v1 -> v3\n",
      "Activator edge: v2 -> v1\n",
      "Activator edge: v2 -> v3\n",
      "Activator edge: v3 -> v1\n",
      "Inhibitor edge: v3 -| v2\n"
     ]
    }
   ]
  },
  {
   "cell_type": "code",
   "source": [
    "# Separate Edges Based on the 'sign' Attribute\n",
    "edges_positive = [(u, v) for u, v, d in G.edges(data=True) if d.get('sign') == {1}]\n",
    "edges_negative = [(u, v) for u, v, d in G.edges(data=True) if d.get('sign') == {-1}]\n",
    "\n",
    "##  Draw nodes and edges\n",
    "pos = nx.spring_layout(G)  # You can choose a different layout if you prefer\n",
    "nx.draw_networkx_nodes(G, pos, node_color='lightblue', node_size=700)\n",
    "\n",
    "# Draw positive edges with standard arrowhead\n",
    "nx.draw_networkx_edges(G, pos, edgelist=edges_positive, edge_color='green', arrows=True)\n",
    "\n",
    "# Draw negative edges with T-shaped arrowhead\n",
    "nx.draw_networkx_edges(G, pos, edgelist=edges_negative, edge_color='red', arrows=True, arrowstyle='-|>')\n",
    "\n",
    "## Add labels and show the plot\n",
    "nx.draw_networkx_labels(G, pos)\n",
    "plt.title(\"Graph with Different Edge Types\")\n",
    "plt.show()\n"
   ],
   "metadata": {
    "colab": {
     "base_uri": "https://localhost:8080/",
     "height": 428
    },
    "id": "9BPszdTJyPkl",
    "executionInfo": {
     "status": "ok",
     "timestamp": 1701021789616,
     "user_tz": -60,
     "elapsed": 1351,
     "user": {
      "displayName": "Aurelio Angel Moya Garcia",
      "userId": "06239010930884764093"
     }
    },
    "outputId": "170a5bad-1a17-4073-9df4-2d1cac767887",
    "ExecuteTime": {
     "end_time": "2023-11-27T11:48:27.055115Z",
     "start_time": "2023-11-27T11:48:26.789801Z"
    }
   },
   "execution_count": 8,
   "outputs": [
    {
     "data": {
      "text/plain": "<Figure size 640x480 with 1 Axes>",
      "image/png": "[encoded data removed]"
     },
     "metadata": {},
     "output_type": "display_data"
    }
   ]
  },
  {
   "cell_type": "markdown",
   "source": [
    "## State Transition graphs\n",
    "Prime implicants can be used to derive the state transition graph (STG) of a network. To compute it, use the function primes2stg of the module StateTransitionGraphs. It returns an instance of the NetworkX digraph class.\n",
    "\n",
    "The second argument to primes2stg is either “synchronous” or “asynchronous” for the fully synchronous or the fully asynchronous transition relation, see e.g. [Klarner2015](https://www.frontiersin.org/articles/10.3389/fbioe.2015.00130/full) for a formal definition.\n",
    "\n",
    "The nodes of an STG are string representations of states, e.g. “110”, see states, [subspaces and paths](https://pyboolnet.readthedocs.io/en/master/manual.html#states-subspaces-paths). You may use state2str to convert a state dictionary into a state string. They are vectors of activities, sorted by component names:"
   ],
   "metadata": {
    "id": "2lqw1W3_1z53"
   }
  },
  {
   "cell_type": "code",
   "source": [
    "update = \"synchronous\"\n",
    "stg = STGs.primes2stg(primes, update)\n",
    "list(stg.nodes())[0]"
   ],
   "metadata": {
    "colab": {
     "base_uri": "https://localhost:8080/",
     "height": 35
    },
    "id": "Iman1E2n3sCv",
    "executionInfo": {
     "status": "ok",
     "timestamp": 1701023381454,
     "user_tz": -60,
     "elapsed": 459,
     "user": {
      "displayName": "Aurelio Angel Moya Garcia",
      "userId": "06239010930884764093"
     }
    },
    "outputId": "c2fc9a5d-d26b-4391-806d-4bff77e984ab"
   },
   "execution_count": null,
   "outputs": [
    {
     "output_type": "execute_result",
     "data": {
      "text/plain": [
       "'111'"
      ],
      "application/vnd.google.colaboratory.intrinsic+json": {
       "type": "string"
      }
     },
     "metadata": {},
     "execution_count": 67
    }
   ]
  },
  {
   "cell_type": "markdown",
   "source": [
    "You may use NetworkX functions on stg, for example [networkx.has_path:](https://networkx.github.io/documentation/stable/reference/algorithms/generated/networkx.algorithms.shortest_paths.generic.has_path.html#networkx.algorithms.shortest_paths.generic.has_path)"
   ],
   "metadata": {
    "id": "2x0TzFt45UyA"
   }
  },
  {
   "cell_type": "code",
   "source": [
    "nx.has_path(stg, \"100\", \"111\")"
   ],
   "metadata": {
    "colab": {
     "base_uri": "https://localhost:8080/"
    },
    "id": "JLVakLww5drZ",
    "executionInfo": {
     "status": "ok",
     "timestamp": 1701023461506,
     "user_tz": -60,
     "elapsed": 26,
     "user": {
      "displayName": "Aurelio Angel Moya Garcia",
      "userId": "06239010930884764093"
     }
    },
    "outputId": "e2d968b4-8d68-4f28-ab7a-7669fc9ea258"
   },
   "execution_count": null,
   "outputs": [
    {
     "output_type": "execute_result",
     "data": {
      "text/plain": [
       "True"
      ]
     },
     "metadata": {},
     "execution_count": 68
    }
   ]
  },
  {
   "cell_type": "markdown",
   "source": [
    "## Attractor detection\n",
    "Attractors capture the long-term activities of the components of Boolean networks. Two different types of attractors are possible: either all activities stabilize at some values and the network enters a steady state or at least one component shows sustained oscillations and the network enters a cyclic attractor. Formally, attractors are defined as the inclusion-wise minimal trap sets of a given STG (state transition graph) which is equivalent to the so-called terminal SCCs (strongly connected components)  of the state transition graph. One approach to computing the attractors is to use Tarjan’s algorithm for computing the SCCs of a directed graph, see [Tarjan1972](https://pyboolnet.readthedocs.io/en/master/bibliography.html#tarjan1972) and then to select those SCCs that are terminal, i.e., those for which there is no path to another SCC. This approach is implemented in the function `compute_attractors_tarjan."
   ],
   "metadata": {
    "id": "aZc0VX8V0E3a"
   }
  },
  {
   "cell_type": "code",
   "source": [
    "attractors = AD.compute_attractors_tarjan(stg)\n",
    "#for A in attractors:\n",
    "#  print([STGs.state2str(x) for x in A])\n",
    "x = attractors[1]\n",
    "x[0]\n",
    "#STGs.state2str(x)\n"
   ],
   "metadata": {
    "id": "2QSSETmF1Ea-",
    "colab": {
     "base_uri": "https://localhost:8080/"
    },
    "executionInfo": {
     "status": "ok",
     "timestamp": 1701023789068,
     "user_tz": -60,
     "elapsed": 7,
     "user": {
      "displayName": "Aurelio Angel Moya Garcia",
      "userId": "06239010930884764093"
     }
    },
    "outputId": "063c7707-0f8f-4618-881d-e0573ebf637d"
   },
   "execution_count": null,
   "outputs": [
    {
     "output_type": "execute_result",
     "data": {
      "text/plain": [
       "{'000', '001', '010', '101', '111'}"
      ]
     },
     "metadata": {},
     "execution_count": 78
    }
   ]
  },
  {
   "cell_type": "code",
   "source": [
    "## plot the graph\n",
    "nx.draw(G, with_labels=True, node_color='lightblue', edge_color='gray')\n",
    "plt.show()"
   ],
   "metadata": {
    "colab": {
     "base_uri": "https://localhost:8080/",
     "height": 516
    },
    "id": "VhpmrQ7hwbU9",
    "executionInfo": {
     "status": "ok",
     "timestamp": 1701021359107,
     "user_tz": -60,
     "elapsed": 899,
     "user": {
      "displayName": "Aurelio Angel Moya Garcia",
      "userId": "06239010930884764093"
     }
    },
    "outputId": "6a0657b3-7f96-4190-e0e8-ef0fc2ad04e4"
   },
   "execution_count": null,
   "outputs": [
    {
     "output_type": "display_data",
     "data": {
      "text/plain": [
       "<Figure size 640x480 with 1 Axes>"
      ],
      "image/png": "[encoded data removed]"
     },
     "metadata": {}
    }
   ]
  }
 ]
}
