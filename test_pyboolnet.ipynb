{
 "nbformat": 4,
 "nbformat_minor": 0,
 "metadata": {
  "colab": {
   "provenance": [],
   "mount_file_id": "1YawJ-MX9td9l0t0zCVS6GAeNsGdfXfgC",
   "authorship_tag": "ABX9TyO+LKJ/Y9GwQoeW3thLyzcQ"
  },
  "kernelspec": {
   "name": "python3",
   "language": "python",
   "display_name": "Python 3 (ipykernel)"
  },
  "language_info": {
   "name": "python"
  }
 },
 "cells": [
  {
   "cell_type": "markdown",
   "source": [
    "# Introduction to the analysis of biological circuits   \n",
    "\n",
    "## First circuit. The Feedforward loop\n",
    "\n",
    "A Feedforward Loop (FFL) is a common and important motif found in biological networks, especially in gene regulatory networks. It consists of three elements (such as genes or proteins) and the connections between them, forming a directed network. In an FFL, one element regulates a second, which in turn regulates a third, and additionally, the first element also directly regulates the third. This creates a loop with two pathways from the first to the third element: a direct one and an indirect one that goes through the second element.\n",
    "\n",
    "We will use boolean networks where the relationships (activation or inhibition) between the elements of the circuits are logical functions (AND, OR, NOT). For instance, let's define the following FFL:\n",
    "\n",
    "---\n",
    "    X inhibits Y\n",
    "    Y activates Z\n",
    "    X inhibits Z\n",
    "---\n",
    "The representation of this FFL in .bnet notation (a common format for boolean networks) is:\n",
    "\n",
    "    X, <Boolean function for X>\n",
    "    Y, !X\n",
    "    Z, Y and !X\n",
    "    \n",
    "\n",
    "Based on the description of your feedforward loop (FFL), where X inhibits Y, Y activates Z, and X also inhibits Z, the `.bnet` representation would look like this:\n",
    "\n",
    "```\n",
    "X, <Boolean function for X>\n",
    "Y, !X\n",
    "Z, Y and !X\n",
    "```\n",
    "\n",
    "In this representation:\n",
    "- `X` is a node whose behavior or state is determined by some other factors not specified in the FFL. Therefore, its Boolean function will depend on external inputs or conditions, which is why we have `<Boolean function for X>`. If X is always active or its state is constant, we can replace this with `True` or `False` accordingly.\n",
    "- `Y` is inhibited by `X`, which is represented by `!X`, meaning `Y` is active when `X` is not active.\n",
    "- `Z` is activated by `Y` and inhibited by `X`. The `and` logic in `Y and !X` means that `Z` is active only when `Y` is active and `X` is not active. \n",
    "\n",
    "This setup creates an incoherent type 1 feedforward loop, as the direct regulation (X inhibiting Z) is opposite in effect to the indirect regulation (X inhibiting Y, and Y activating Z).\n",
    "\n",
    "### Types of FFL\n",
    "There are different types of FFLs based on the nature of the regulatory interactions (activation or inhibition). The most common types are:\n",
    "\n",
    "-   Coherent FFL: Where the direct and indirect pathways act in the same way (both activating or both inhibiting) on the target gene.\n",
    "-   Incoherent FFL: Where the direct and indirect pathways have opposite effects on the target gene.\n",
    "\n",
    "FFLs are important in signal transduction because they can filter noise. FFLs, especially the type 1 coherent FFL (C1-FFL), are believed to evolve to filter out short spurious signals. This adaptive feature helps in distinguishing between short-lived noise and sustained signals, contributing to more reliable responses."
   ],
   "metadata": {
    "id": "o-4I1P-kiScA"
   }
  },
  {
   "cell_type": "markdown",
   "source": [
    "## Boolean networks\n",
    "Boolean networks are a mathematical model used to represent and analyze complex systems, particularly in fields like biology. They consist of a set of nodes and edges, where each node represents a variable that can take on one of two states: true or false (often represented as 1 or 0). The edges between nodes represent the interactions or logical relationships between these variables.\n",
    "\n",
    "Key characteristics and principles of Boolean networks include:\n",
    "\n",
    "- **Discrete States:** Each node in a Boolean network can only be in one of two states: on (1) or off (0). This binary nature simplifies the modeling of complex systems.\n",
    "- **Update Rules:** Each node's state is determined by a specific Boolean function or rule, which takes the states of its input nodes (neighbors) as arguments. These rules define how the state of each node changes over time.\n",
    "- **Dynamics:** The network evolves over time according to its update rules. This can be done synchronously, where all nodes update their state simultaneously, or asynchronously, where nodes update their state one at a time in a sequential or random order.\n",
    "- **Attractors and State Space:** The evolution of a Boolean network over time leads to certain patterns or attractors in its state space. An attractor can be a stable state (where the network remains constant) or a limit cycle (where the network repeats a sequence of states). The study of these attractors can reveal important behavior and properties of the system.\n",
    "\n",
    "In biological systems, Boolean networks are often used to model gene regulatory networks, where nodes represent genes, and edges represent regulatory interactions. The binary states can represent whether a gene is expressed or not."
   ],
   "metadata": {
    "collapsed": false
   }
  },
  {
   "cell_type": "markdown",
   "source": [
    "## The C1 feed-forward loop\n",
    "### Understanding C1-FFL\n",
    "\n",
    "In a C1-FFL, you have three nodes: X, Y, and Z. X activates Y, and both X and Y are required to activate Z. In Boolean terms:\n",
    "\n",
    "    Y = X\n",
    "    Z = X AND Y\n",
    "\n",
    "This means Z is activated only when both X and Y are active.\n",
    "\n",
    "A FFL exhibits two interesting properties: delay and persisence:\n",
    "- **Delay** refers to the time taken for the output node to respond to a change in the state of the input node. Since Y is directly activated by X, and Z is activated by both X and Y, this loop shows delay because Z requires the activation of both X and Y. Even if X is activated quickly, there is a lag before Y becomes active, and subsequently, Z gets activated. This delay is significant in biological systems for timing the response to stimuli or ensuring that responses only occur under sustained input conditions.\n",
    "- **Persistence** refers to the ability of the output node to maintain its state (usually active) after the input node has reverted to its initial state (usually inactive). This is important in biological systems where a prolonged response is required even after the initial stimulus has ceased. It ensures that the system's response is not just a brief, transient reaction but a more sustained one, appropriate for processes that need more prolonged activation."
   ],
   "metadata": {
    "collapsed": false
   }
  },
  {
   "cell_type": "markdown",
   "source": [
    "<!-- Cosas que hacer\n",
    "Analyzing the signal processing capabilities of a coherent type-1 feedforward loop (C1-FFL) using a Boolean network involves simulating how the FFL responds to various input signals. Here's an example approach to study this:\n",
    "\n",
    "### Understanding C1-FFL\n",
    "\n",
    "In a C1-FFL, you have three nodes: X, Y, and Z. X activates Y, and both X and Y are required to activate Z. In Boolean terms:\n",
    "\n",
    "- Y = X\n",
    "- Z = X AND Y\n",
    "\n",
    "This means Z is activated only when both X and Y are active.\n",
    "\n",
    "### Analyzing Signal Processing\n",
    "\n",
    "1. **Setup the Boolean Network Model:**\n",
    "   - Define the nodes and their Boolean update rules as per the C1-FFL logic.\n",
    "\n",
    "2. **Design Input Signals:**\n",
    "   - Create different input patterns for node X (the initial regulator). For example, a sustained signal (X stays 'on'), a pulse (X is 'on' for a short period), or an oscillating signal (X switches between 'on' and 'off').\n",
    "\n",
    "3. **Simulate Network Response:**\n",
    "   - For each input pattern, simulate the network's response over time.\n",
    "   - Record the states of Y and Z at each time step.\n",
    "\n",
    "4. **Analyze Delay and Persistence:**\n",
    "   - Observe the delay between the activation of X and the response in Z.\n",
    "   - Check how long Z stays active after X is turned off. The C1-FFL is known for its feature of 'persistence detection,' meaning Z should remain active for a while even after X is deactivated.\n",
    "\n",
    "5. **Response to Noise:**\n",
    "   - Introduce random fluctuations in the input signal to X and observe how the network dampens or amplifies this noise.\n",
    "   - C1-FFLs are expected to filter out brief fluctuations in X's signal, only responding to sustained activation.\n",
    "\n",
    "6. **Comparative Analysis:**\n",
    "   - Compare the response of the C1-FFL with a simple direct regulation model (where X directly activates Z without Y).\n",
    "   - This comparison highlights the signal processing advantages of the C1-FFL structure.\n",
    "\n",
    "7. **Visualization:**\n",
    "   - Visualize the network's response over time using graphs or plots. This can help in understanding the dynamics and timing of signal processing.\n",
    "\n",
    "8. **Sensitivity Analysis:**\n",
    "   - Test how changes in the update rules or the introduction of delays affect the signal processing capabilities.\n",
    "\n",
    "### Conclusion\n",
    "\n",
    "Through this analysis, you will gain insights into how the C1-FFL processes signals, particularly in terms of filtering noise, creating a delay in the response, and enabling persistence in the output. This approach is not only useful for understanding biological systems but can also inform synthetic biology designs and the development of bio-inspired computational models.\n",
    "-->"
   ],
   "metadata": {
    "collapsed": false
   }
  },
  {
   "cell_type": "markdown",
   "source": [
    "## Work with PyBoolNet"
   ],
   "metadata": {
    "collapsed": false
   }
  },
  {
   "cell_type": "markdown",
   "source": [
    "PyBoolNet is a Python package designed for the creation, analysis, and visualization of Boolean networks. The key features of PyBoolNet include:\n",
    "\n",
    "1. **Network Creation and Management:** It allows users to create Boolean networks from various sources, including text files and logical formulas. It also provides functionality to manipulate and manage these networks.\n",
    "\n",
    "2. **Steady State and Attractor Analysis:** PyBoolNet can compute steady states and attractors, which are key concepts in understanding the long-term behavior of a system modeled by a Boolean network.\n",
    "\n",
    "3. **Model Checking and Temporal Logic:** The package includes tools for model checking, which is a method for verifying if a model meets certain specifications. It also supports temporal logic, a formalism used to reason about the behavior of a system over time.\n",
    "\n",
    "4. **Visualization:** PyBoolNet offers capabilities to visually represent Boolean networks and their dynamics, which aids in the interpretation and analysis of the network’s behavior.\n",
    "\n",
    "5. **Integration with Other Tools:** It can interface with other software tools commonly used in systems biology, allowing for a more comprehensive analysis.\n",
    "\n",
    "Overall, PyBoolNet is a valuable tool for researchers and scientists in fields like systems biology, where understanding the dynamics of complex networks is crucial. Its combination of network analysis, model checking, and visualization tools makes it a versatile resource for studying Boolean network models."
   ],
   "metadata": {
    "collapsed": false
   }
  },
  {
   "cell_type": "markdown",
   "source": [
    "## Analyse delay and persistence in a C1 FFL"
   ],
   "metadata": {
    "collapsed": false
   }
  },
  {
   "cell_type": "markdown",
   "source": [
    "### Install libraries\n",
    "We need to install the Python modules we want to use in Google Colab."
   ],
   "metadata": {
    "id": "WfWpKTM2iqZ4"
   }
  },
  {
   "cell_type": "code",
   "execution_count": 9,
   "metadata": {
    "colab": {
     "base_uri": "https://localhost:8080/"
    },
    "id": "cxjIJz8ihoMc",
    "executionInfo": {
     "status": "ok",
     "timestamp": 1701084655253,
     "user_tz": -60,
     "elapsed": 31999,
     "user": {
      "displayName": "Aurelio Angel Moya Garcia",
      "userId": "06239010930884764093"
     }
    },
    "outputId": "b7c9e7ae-f9cd-478e-d583-57bd4c039998",
    "ExecuteTime": {
     "end_time": "2023-11-29T09:19:08.813082Z",
     "start_time": "2023-11-29T09:18:58.797578Z"
    }
   },
   "outputs": [
    {
     "name": "stdout",
     "output_type": "stream",
     "text": [
      "\u001B[33mDEPRECATION: Loading egg at /opt/homebrew/anaconda3/lib/python3.11/site-packages/stringdb-0.1.5-py3.11.egg is deprecated. pip 23.3 will enforce this behaviour change. A possible replacement is to use pip for package installation..\u001B[0m\u001B[33m\r\n",
      "\u001B[0mRequirement already satisfied: networkx in /opt/homebrew/anaconda3/lib/python3.11/site-packages (3.1)\r\n",
      "\u001B[33mDEPRECATION: Loading egg at /opt/homebrew/anaconda3/lib/python3.11/site-packages/stringdb-0.1.5-py3.11.egg is deprecated. pip 23.3 will enforce this behaviour change. A possible replacement is to use pip for package installation..\u001B[0m\u001B[33m\r\n",
      "\u001B[0mCollecting git+https://github.com/hklarner/pyboolnet\r\n",
      "  Cloning https://github.com/hklarner/pyboolnet to /private/var/folders/mh/39ly_9sn6x3czzxc440sh1ww0000gn/T/pip-req-build-yvf_sxlw\r\n",
      "  Running command git clone --filter=blob:none --quiet https://github.com/hklarner/pyboolnet /private/var/folders/mh/39ly_9sn6x3czzxc440sh1ww0000gn/T/pip-req-build-yvf_sxlw\r\n",
      "  Resolved https://github.com/hklarner/pyboolnet to commit 0f209cc7ba0d596f790b9584add27485879fe695\r\n",
      "  Preparing metadata (setup.py) ... \u001B[?25ldone\r\n",
      "\u001B[?25hRequirement already satisfied: networkx>=2.4 in /opt/homebrew/anaconda3/lib/python3.11/site-packages (from pyboolnet==3.0.11) (3.1)\r\n",
      "Requirement already satisfied: pytest in /opt/homebrew/anaconda3/lib/python3.11/site-packages (from pyboolnet==3.0.11) (7.4.0)\r\n",
      "Requirement already satisfied: click>=8.0.1 in /opt/homebrew/anaconda3/lib/python3.11/site-packages (from pyboolnet==3.0.11) (8.1.7)\r\n",
      "Requirement already satisfied: matplotlib>=3.3.3 in /opt/homebrew/anaconda3/lib/python3.11/site-packages (from pyboolnet==3.0.11) (3.8.0)\r\n",
      "Requirement already satisfied: contourpy>=1.0.1 in /opt/homebrew/anaconda3/lib/python3.11/site-packages (from matplotlib>=3.3.3->pyboolnet==3.0.11) (1.0.5)\r\n",
      "Requirement already satisfied: cycler>=0.10 in /opt/homebrew/anaconda3/lib/python3.11/site-packages (from matplotlib>=3.3.3->pyboolnet==3.0.11) (0.11.0)\r\n",
      "Requirement already satisfied: fonttools>=4.22.0 in /opt/homebrew/anaconda3/lib/python3.11/site-packages (from matplotlib>=3.3.3->pyboolnet==3.0.11) (4.25.0)\r\n",
      "Requirement already satisfied: kiwisolver>=1.0.1 in /opt/homebrew/anaconda3/lib/python3.11/site-packages (from matplotlib>=3.3.3->pyboolnet==3.0.11) (1.4.4)\r\n",
      "Requirement already satisfied: numpy<2,>=1.21 in /opt/homebrew/anaconda3/lib/python3.11/site-packages (from matplotlib>=3.3.3->pyboolnet==3.0.11) (1.24.3)\r\n",
      "Requirement already satisfied: packaging>=20.0 in /opt/homebrew/anaconda3/lib/python3.11/site-packages (from matplotlib>=3.3.3->pyboolnet==3.0.11) (23.1)\r\n",
      "Requirement already satisfied: pillow>=6.2.0 in /opt/homebrew/anaconda3/lib/python3.11/site-packages (from matplotlib>=3.3.3->pyboolnet==3.0.11) (10.0.1)\r\n",
      "Requirement already satisfied: pyparsing>=2.3.1 in /opt/homebrew/anaconda3/lib/python3.11/site-packages (from matplotlib>=3.3.3->pyboolnet==3.0.11) (3.0.9)\r\n",
      "Requirement already satisfied: python-dateutil>=2.7 in /opt/homebrew/anaconda3/lib/python3.11/site-packages (from matplotlib>=3.3.3->pyboolnet==3.0.11) (2.8.2)\r\n",
      "Requirement already satisfied: iniconfig in /opt/homebrew/anaconda3/lib/python3.11/site-packages (from pytest->pyboolnet==3.0.11) (1.1.1)\r\n",
      "Requirement already satisfied: pluggy<2.0,>=0.12 in /opt/homebrew/anaconda3/lib/python3.11/site-packages (from pytest->pyboolnet==3.0.11) (1.0.0)\r\n",
      "Requirement already satisfied: six>=1.5 in /opt/homebrew/anaconda3/lib/python3.11/site-packages (from python-dateutil>=2.7->matplotlib>=3.3.3->pyboolnet==3.0.11) (1.16.0)\r\n"
     ]
    }
   ],
   "source": [
    "!pip3 install networkx\n",
    "!pip3 install git+https://github.com/hklarner/pyboolnet"
   ]
  },
  {
   "cell_type": "markdown",
   "source": [
    "### Load python modules"
   ],
   "metadata": {
    "collapsed": false
   }
  },
  {
   "cell_type": "code",
   "source": [
    "import pyboolnet\n",
    "from pyboolnet import file_exchange # load and write the network to file\n",
    "from pyboolnet import interaction_graphs as ig # create the networkx graph\n",
    "import networkx as nx\n",
    "import matplotlib.pyplot as plt\n",
    "from pyboolnet import state_transition_graphs as STGs # To get the state transition graphs\n",
    "from pyboolnet import attractors as AD # To detect attractors"
   ],
   "metadata": {
    "id": "Jbpo74hConS5",
    "ExecuteTime": {
     "end_time": "2023-11-29T09:19:30.395406Z",
     "start_time": "2023-11-29T09:19:30.385499Z"
    }
   },
   "execution_count": 10,
   "outputs": []
  },
  {
   "cell_type": "markdown",
   "source": [
    "### Generate the boolean network for the C1 FFL\n",
    "In Python we represent prime implicants as nested dictionaries and lists. The prime implicants of a network with three components v1, v2, v3 and three update functions f1, f2, f3 that are defined by:"
   ],
   "metadata": {
    "id": "0iFVvZdDob15"
   }
  },
  {
   "cell_type": "code",
   "source": [
    "bnet = \"\"\"\n",
    "X = True\n",
    "Y = X\n",
    "Z = X and Y\n",
    "  \"\"\""
   ],
   "metadata": {
    "id": "_2f99gpJnv0t",
    "ExecuteTime": {
     "end_time": "2023-11-29T09:19:57.414538Z",
     "start_time": "2023-11-29T09:19:57.408888Z"
    }
   },
   "execution_count": 11,
   "outputs": []
  },
  {
   "cell_type": "code",
   "source": [
    "#primes = file_exchange.bnet2primes(bnet)\n",
    "file_exchange.bnet2primes(bnet)"
   ],
   "metadata": {
    "id": "74gUB5WZpd6R",
    "ExecuteTime": {
     "end_time": "2023-11-29T09:23:27.315697Z",
     "start_time": "2023-11-29T09:23:27.293605Z"
    }
   },
   "execution_count": 13,
   "outputs": [
    {
     "name": "stdout",
     "output_type": "stream",
     "text": [
      "ERROR failed to run bnet2primes: cmd=/opt/homebrew/anaconda3/lib/python3.11/site-packages/pyboolnet/binaries/BNetToPrime/BNetToPrime_mac64, return_code=1, out=b'{\"True\":[[{\"True\":0,\\x08 \\x08},\\x08 \\x08],[{\"True\":1,\\x08 \\x08},\\x08 \\x08]],\"X\":[[{\"X\":0,\\x08 \\x08},\\x08 \\x08],[{\"X\":1,\\x08 \\x08},\\x08 \\x08]],'\n"
     ]
    }
   ]
  },
  {
   "cell_type": "markdown",
   "source": [
    "Save primes as a bnet file. To do so use primes2bnet:"
   ],
   "metadata": {
    "collapsed": false
   }
  },
  {
   "cell_type": "code",
   "source": [
    "file_exchange.primes2bnet(primes, \"example01.bnet\")"
   ],
   "metadata": {
    "colab": {
     "base_uri": "https://localhost:8080/",
     "height": 35
    },
    "id": "KCzFl97EqC2M",
    "executionInfo": {
     "status": "ok",
     "timestamp": 1701020015053,
     "user_tz": -60,
     "elapsed": 413,
     "user": {
      "displayName": "Aurelio Angel Moya Garcia",
      "userId": "06239010930884764093"
     }
    },
    "outputId": "3281c434-fe00-4aaa-95b2-8f6b42b6bcad"
   },
   "execution_count": null,
   "outputs": [
    {
     "output_type": "execute_result",
     "data": {
      "text/plain": [
       "'v1,   v2 & v3 | !v1 & v2\\nv2,   !v3\\nv3,   v2 | v1\\n'"
      ],
      "application/vnd.google.colaboratory.intrinsic+json": {
       "type": "string"
      }
     },
     "metadata": {},
     "execution_count": 36
    }
   ]
  },
  {
   "cell_type": "markdown",
   "source": [
    "### Compute the State Transition Graph and\n",
    "Prime implicants can be used to derive the state transition graph (STG) of a network. To compute it, use the function `primes2stg` of the module `StateTransitionGraphs`. It returns an instance of the NetworkX digraph class.\n",
    "\n",
    "The second argument to `primes2stg` is either “synchronous” or “asynchronous” for the fully synchronous or the fully asynchronous transition relation, see e.g. [Klarner2015](https://www.frontiersin.org/articles/10.3389/fbioe.2015.00130/full) for a formal definition.\n",
    "\n",
    "The nodes of an STG are string representations of states, e.g. “110”, see states, [subspaces and paths](https://pyboolnet.readthedocs.io/en/master/manual.html#states-subspaces-paths). "
   ],
   "metadata": {
    "collapsed": false
   }
  },
  {
   "cell_type": "code",
   "execution_count": null,
   "outputs": [],
   "source": [
    "stg = STGs.primes2stg(primes, \"asynchronous\")\n",
    "list(stg.nodes())[0]"
   ],
   "metadata": {
    "collapsed": false
   }
  },
  {
   "cell_type": "markdown",
   "source": [
    "### Initialize the states of the nodes"
   ],
   "metadata": {
    "collapsed": false
   }
  },
  {
   "cell_type": "code",
   "execution_count": null,
   "outputs": [],
   "source": [
    "initial_state = {'X': 0, 'Y': 0, 'Z': 0}"
   ],
   "metadata": {
    "collapsed": false
   }
  },
  {
   "cell_type": "markdown",
   "source": [
    "### Define the simulation of the network\n",
    "This establishes the simulation of the network. The simulation is asynchronous, meaning the states of the nodes are updated one by one in a random order."
   ],
   "metadata": {
    "collapsed": false
   }
  },
  {
   "cell_type": "code",
   "execution_count": null,
   "outputs": [],
   "source": [
    "def simulate_network(primes, initial_state, steps):\n",
    "    current_state = initial_state.copy()\n",
    "    history = []\n",
    "\n",
    "    for _ in range(steps):\n",
    "        history.append(current_state.copy())\n",
    "        current_state = STGs.successor(primes, current_state, \"asynchronous\")\n",
    "\n",
    "    return history"
   ],
   "metadata": {
    "collapsed": false
   }
  },
  {
   "cell_type": "markdown",
   "source": [
    "### Run the simulation for a number of steps"
   ],
   "metadata": {
    "collapsed": false
   }
  },
  {
   "cell_type": "code",
   "execution_count": null,
   "outputs": [],
   "source": [
    "steps = 10  # You can adjust the number of steps\n",
    "simulation_history = simulate_network(primes, initial_state, steps)"
   ],
   "metadata": {
    "collapsed": false
   }
  },
  {
   "cell_type": "markdown",
   "source": [
    "### Print the simulation results"
   ],
   "metadata": {
    "collapsed": false
   }
  },
  {
   "cell_type": "code",
   "execution_count": 1,
   "outputs": [
    {
     "ename": "NameError",
     "evalue": "name 'simulation_history' is not defined",
     "output_type": "error",
     "traceback": [
      "\u001B[0;31m---------------------------------------------------------------------------\u001B[0m",
      "\u001B[0;31mNameError\u001B[0m                                 Traceback (most recent call last)",
      "Cell \u001B[0;32mIn[1], line 1\u001B[0m\n\u001B[0;32m----> 1\u001B[0m \u001B[38;5;28;01mfor\u001B[39;00m i, state \u001B[38;5;129;01min\u001B[39;00m \u001B[38;5;28menumerate\u001B[39m(simulation_history):\n\u001B[1;32m      2\u001B[0m     \u001B[38;5;28mprint\u001B[39m(\u001B[38;5;124mf\u001B[39m\u001B[38;5;124m\"\u001B[39m\u001B[38;5;124mStep \u001B[39m\u001B[38;5;132;01m{\u001B[39;00mi\u001B[38;5;132;01m}\u001B[39;00m\u001B[38;5;124m: \u001B[39m\u001B[38;5;132;01m{\u001B[39;00mstate\u001B[38;5;132;01m}\u001B[39;00m\u001B[38;5;124m\"\u001B[39m)\n",
      "\u001B[0;31mNameError\u001B[0m: name 'simulation_history' is not defined"
     ]
    }
   ],
   "source": [
    "for i, state in enumerate(simulation_history):\n",
    "    print(f\"Step {i}: {state}\")"
   ],
   "metadata": {
    "collapsed": false,
    "ExecuteTime": {
     "end_time": "2023-11-29T09:13:11.070787Z",
     "start_time": "2023-11-29T09:13:10.855038Z"
    }
   }
  },
  {
   "cell_type": "code",
   "execution_count": null,
   "outputs": [],
   "source": [],
   "metadata": {
    "collapsed": false
   }
  }
 ]
}
