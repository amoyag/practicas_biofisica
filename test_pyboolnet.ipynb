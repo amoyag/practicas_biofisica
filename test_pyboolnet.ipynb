{
 "nbformat": 4,
 "nbformat_minor": 0,
 "metadata": {
  "colab": {
   "provenance": []
  },
  "kernelspec": {
   "name": "python3",
   "language": "python",
   "display_name": "Python 3 (ipykernel)"
  },
  "language_info": {
   "name": "python"
  }
 },
 "cells": [
  {
   "cell_type": "markdown",
   "source": [
    "# Introduction to the analysis of biological circuits   \n",
    "\n",
    "## First circuit. The Feedforward loop\n",
    "\n",
    "A Feedforward Loop (FFL) is a common and important motif found in biological networks, especially in gene regulatory networks. It consists of three elements (such as genes or proteins) and the connections between them, forming a directed network. In an FFL, one element regulates a second, which in turn regulates a third, and additionally, the first element also directly regulates the third. This creates a loop with two pathways from the first to the third element: a direct one and an indirect one that goes through the second element.\n",
    "\n",
    "We will use boolean networks where the relationships (activation or inhibition) between the elements of the circuits are logical functions (AND, OR, NOT). For instance, let's define the following FFL:\n",
    "\n",
    "---\n",
    "    X inhibits Y\n",
    "    Y activates Z\n",
    "    X inhibits Z\n",
    "---\n",
    "The representation of this FFL in .bnet notation (a common format for boolean networks) is:\n",
    "\n",
    "    X, <Boolean function for X>\n",
    "    Y, !X\n",
    "    Z, Y and !X\n",
    "    \n",
    "\n",
    "Based on the description of your feedforward loop (FFL), where X inhibits Y, Y activates Z, and X also inhibits Z, the `.bnet` representation would look like this:\n",
    "\n",
    "```\n",
    "X, <Boolean function for X>\n",
    "Y, !X\n",
    "Z, Y and !X\n",
    "```\n",
    "\n",
    "In this representation:\n",
    "- `X` is a node whose behavior or state is determined by some other factors not specified in the FFL. Therefore, its Boolean function will depend on external inputs or conditions, which is why we have `<Boolean function for X>`. If X is always active or its state is constant, we can replace this with `True` or `False` accordingly.\n",
    "- `Y` is inhibited by `X`, which is represented by `!X`, meaning `Y` is active when `X` is not active.\n",
    "- `Z` is activated by `Y` and inhibited by `X`. The `and` logic in `Y and !X` means that `Z` is active only when `Y` is active and `X` is not active.\n",
    "\n",
    "This setup creates an incoherent type 1 feedforward loop, as the direct regulation (X inhibiting Z) is opposite in effect to the indirect regulation (X inhibiting Y, and Y activating Z).\n",
    "\n",
    "### Types of FFL\n",
    "There are different types of FFLs based on the nature of the regulatory interactions (activation or inhibition). The most common types are:\n",
    "\n",
    "-   Coherent FFL: Where the direct and indirect pathways act in the same way (both activating or both inhibiting) on the target gene.\n",
    "-   Incoherent FFL: Where the direct and indirect pathways have opposite effects on the target gene.\n",
    "\n",
    "FFLs are important in signal transduction because they can filter noise. FFLs, especially the type 1 coherent FFL (C1-FFL), are believed to evolve to filter out short spurious signals. This adaptive feature helps in distinguishing between short-lived noise and sustained signals, contributing to more reliable responses."
   ],
   "metadata": {
    "id": "o-4I1P-kiScA"
   }
  },
  {
   "cell_type": "markdown",
   "source": [
    "## Boolean networks\n",
    "Boolean networks are a mathematical model used to represent and analyze complex systems, particularly in fields like biology. They consist of a set of nodes and edges, where each node represents a variable that can take on one of two states: true or false (often represented as 1 or 0). The edges between nodes represent the interactions or logical relationships between these variables.\n",
    "\n",
    "Key characteristics and principles of Boolean networks include:\n",
    "\n",
    "- **Discrete States:** Each node in a Boolean network can only be in one of two states: on (1) or off (0). This binary nature simplifies the modeling of complex systems.\n",
    "- **Update Rules:** Each node's state is determined by a specific Boolean function or rule, which takes the states of its input nodes (neighbors) as arguments. These rules define how the state of each node changes over time.\n",
    "- **Dynamics:** The network evolves over time according to its update rules. This can be done synchronously, where all nodes update their state simultaneously, or asynchronously, where nodes update their state one at a time in a sequential or random order.\n",
    "- **Attractors and State Space:** The evolution of a Boolean network over time leads to certain patterns or attractors in its state space. An attractor can be a stable state (where the network remains constant) or a limit cycle (where the network repeats a sequence of states). The study of these attractors can reveal important behavior and properties of the system.\n",
    "\n",
    "In biological systems, Boolean networks are often used to model gene regulatory networks, where nodes represent genes, and edges represent regulatory interactions. The binary states can represent whether a gene is expressed or not."
   ],
   "metadata": {
    "collapsed": false,
    "id": "wYKa2faZZeUZ"
   }
  },
  {
   "cell_type": "markdown",
   "source": [
    "## The C1 feed-forward loop\n",
    "### Understanding C1-FFL\n",
    "\n",
    "In a C1-FFL, you have three nodes: X, Y, and Z. X activates Y, and both X and Y are required to activate Z. In Boolean terms:\n",
    "\n",
    "    Y = X\n",
    "    Z = X AND Y\n",
    "\n",
    "This means Z is activated only when both X and Y are active.\n",
    "\n",
    "A FFL exhibits two interesting properties: delay and persisence:\n",
    "- **Delay** refers to the time taken for the output node to respond to a change in the state of the input node. Since Y is directly activated by X, and Z is activated by both X and Y, this loop shows delay because Z requires the activation of both X and Y. Even if X is activated quickly, there is a lag before Y becomes active, and subsequently, Z gets activated. This delay is significant in biological systems for timing the response to stimuli or ensuring that responses only occur under sustained input conditions.\n",
    "- **Persistence** refers to the ability of the output node to maintain its state (usually active) after the input node has reverted to its initial state (usually inactive). This is important in biological systems where a prolonged response is required even after the initial stimulus has ceased. It ensures that the system's response is not just a brief, transient reaction but a more sustained one, appropriate for processes that need more prolonged activation."
   ],
   "metadata": {
    "collapsed": false,
    "id": "8YAwWGr3ZeUa"
   }
  },
  {
   "cell_type": "markdown",
   "source": [
    "<!-- Cosas que hacer\n",
    "Analyzing the signal processing capabilities of a coherent type-1 feedforward loop (C1-FFL) using a Boolean network involves simulating how the FFL responds to various input signals. Here's an example approach to study this:\n",
    "\n",
    "### Understanding C1-FFL\n",
    "\n",
    "In a C1-FFL, you have three nodes: X, Y, and Z. X activates Y, and both X and Y are required to activate Z. In Boolean terms:\n",
    "\n",
    "- Y = X\n",
    "- Z = X AND Y\n",
    "\n",
    "This means Z is activated only when both X and Y are active.\n",
    "\n",
    "### Analyzing Signal Processing\n",
    "\n",
    "1. **Setup the Boolean Network Model:**\n",
    "   - Define the nodes and their Boolean update rules as per the C1-FFL logic.\n",
    "\n",
    "2. **Design Input Signals:**\n",
    "   - Create different input patterns for node X (the initial regulator). For example, a sustained signal (X stays 'on'), a pulse (X is 'on' for a short period), or an oscillating signal (X switches between 'on' and 'off').\n",
    "\n",
    "3. **Simulate Network Response:**\n",
    "   - For each input pattern, simulate the network's response over time.\n",
    "   - Record the states of Y and Z at each time step.\n",
    "\n",
    "4. **Analyze Delay and Persistence:**\n",
    "   - Observe the delay between the activation of X and the response in Z.\n",
    "   - Check how long Z stays active after X is turned off. The C1-FFL is known for its feature of 'persistence detection,' meaning Z should remain active for a while even after X is deactivated.\n",
    "\n",
    "5. **Response to Noise:**\n",
    "   - Introduce random fluctuations in the input signal to X and observe how the network dampens or amplifies this noise.\n",
    "   - C1-FFLs are expected to filter out brief fluctuations in X's signal, only responding to sustained activation.\n",
    "\n",
    "6. **Comparative Analysis:**\n",
    "   - Compare the response of the C1-FFL with a simple direct regulation model (where X directly activates Z without Y).\n",
    "   - This comparison highlights the signal processing advantages of the C1-FFL structure.\n",
    "\n",
    "7. **Visualization:**\n",
    "   - Visualize the network's response over time using graphs or plots. This can help in understanding the dynamics and timing of signal processing.\n",
    "\n",
    "8. **Sensitivity Analysis:**\n",
    "   - Test how changes in the update rules or the introduction of delays affect the signal processing capabilities.\n",
    "\n",
    "### Conclusion\n",
    "\n",
    "Through this analysis, you will gain insights into how the C1-FFL processes signals, particularly in terms of filtering noise, creating a delay in the response, and enabling persistence in the output. This approach is not only useful for understanding biological systems but can also inform synthetic biology designs and the development of bio-inspired computational models.\n",
    "-->"
   ],
   "metadata": {
    "collapsed": false,
    "id": "DVrnIIE6ZeUa"
   }
  },
  {
   "cell_type": "markdown",
   "source": [
    "## Work with PyBoolNet"
   ],
   "metadata": {
    "collapsed": false,
    "id": "8bYiqplvZeUa"
   }
  },
  {
   "cell_type": "markdown",
   "source": [
    "PyBoolNet is a Python package designed for the creation, analysis, and visualization of Boolean networks. The key features of PyBoolNet include:\n",
    "\n",
    "1. **Network Creation and Management:** It allows users to create Boolean networks from various sources, including text files and logical formulas. It also provides functionality to manipulate and manage these networks.\n",
    "\n",
    "2. **Steady State and Attractor Analysis:** PyBoolNet can compute steady states and attractors, which are key concepts in understanding the long-term behavior of a system modeled by a Boolean network.\n",
    "\n",
    "3. **Model Checking and Temporal Logic:** The package includes tools for model checking, which is a method for verifying if a model meets certain specifications. It also supports temporal logic, a formalism used to reason about the behavior of a system over time.\n",
    "\n",
    "4. **Visualization:** PyBoolNet offers capabilities to visually represent Boolean networks and their dynamics, which aids in the interpretation and analysis of the network’s behavior.\n",
    "\n",
    "5. **Integration with Other Tools:** It can interface with other software tools commonly used in systems biology, allowing for a more comprehensive analysis.\n",
    "\n",
    "Overall, PyBoolNet is a valuable tool for researchers and scientists in fields like systems biology, where understanding the dynamics of complex networks is crucial. Its combination of network analysis, model checking, and visualization tools makes it a versatile resource for studying Boolean network models."
   ],
   "metadata": {
    "collapsed": false,
    "id": "aGgrfkzNZeUb"
   }
  },
  {
   "cell_type": "markdown",
   "source": [
    "## Analyse delay and persistence in a C1 FFL"
   ],
   "metadata": {
    "collapsed": false,
    "id": "cUzhWv8uZeUb"
   }
  },
  {
   "cell_type": "markdown",
   "source": [
    "### Install libraries\n",
    "We need to install the Python modules we want to use in Google Colab."
   ],
   "metadata": {
    "id": "WfWpKTM2iqZ4"
   }
  },
  {
   "cell_type": "code",
   "execution_count": 1,
   "metadata": {
    "colab": {
     "base_uri": "https://localhost:8080/"
    },
    "id": "cxjIJz8ihoMc",
    "executionInfo": {
     "status": "ok",
     "timestamp": 1701250014115,
     "user_tz": -60,
     "elapsed": 24341,
     "user": {
      "displayName": "Aurelio Angel Moya Garcia",
      "userId": "06239010930884764093"
     }
    },
    "outputId": "210833dd-19aa-4668-a730-36ca5cf2f2d4",
    "ExecuteTime": {
     "end_time": "2023-11-29T09:19:08.813082Z",
     "start_time": "2023-11-29T09:18:58.797578Z"
    }
   },
   "outputs": [
    {
     "output_type": "stream",
     "name": "stdout",
     "text": [
      "Requirement already satisfied: networkx in /usr/local/lib/python3.10/dist-packages (3.2.1)\n",
      "Collecting git+https://github.com/hklarner/pyboolnet\n",
      "  Cloning https://github.com/hklarner/pyboolnet to /tmp/pip-req-build-u8q24j7h\n",
      "  Running command git clone --filter=blob:none --quiet https://github.com/hklarner/pyboolnet /tmp/pip-req-build-u8q24j7h\n",
      "  Resolved https://github.com/hklarner/pyboolnet to commit 0f209cc7ba0d596f790b9584add27485879fe695\n",
      "  Preparing metadata (setup.py) ... \u001B[?25l\u001B[?25hdone\n",
      "Requirement already satisfied: networkx>=2.4 in /usr/local/lib/python3.10/dist-packages (from pyboolnet==3.0.11) (3.2.1)\n",
      "Requirement already satisfied: pytest in /usr/local/lib/python3.10/dist-packages (from pyboolnet==3.0.11) (7.4.3)\n",
      "Requirement already satisfied: click>=8.0.1 in /usr/local/lib/python3.10/dist-packages (from pyboolnet==3.0.11) (8.1.7)\n",
      "Requirement already satisfied: matplotlib>=3.3.3 in /usr/local/lib/python3.10/dist-packages (from pyboolnet==3.0.11) (3.7.1)\n",
      "Requirement already satisfied: contourpy>=1.0.1 in /usr/local/lib/python3.10/dist-packages (from matplotlib>=3.3.3->pyboolnet==3.0.11) (1.2.0)\n",
      "Requirement already satisfied: cycler>=0.10 in /usr/local/lib/python3.10/dist-packages (from matplotlib>=3.3.3->pyboolnet==3.0.11) (0.12.1)\n",
      "Requirement already satisfied: fonttools>=4.22.0 in /usr/local/lib/python3.10/dist-packages (from matplotlib>=3.3.3->pyboolnet==3.0.11) (4.44.3)\n",
      "Requirement already satisfied: kiwisolver>=1.0.1 in /usr/local/lib/python3.10/dist-packages (from matplotlib>=3.3.3->pyboolnet==3.0.11) (1.4.5)\n",
      "Requirement already satisfied: numpy>=1.20 in /usr/local/lib/python3.10/dist-packages (from matplotlib>=3.3.3->pyboolnet==3.0.11) (1.23.5)\n",
      "Requirement already satisfied: packaging>=20.0 in /usr/local/lib/python3.10/dist-packages (from matplotlib>=3.3.3->pyboolnet==3.0.11) (23.2)\n",
      "Requirement already satisfied: pillow>=6.2.0 in /usr/local/lib/python3.10/dist-packages (from matplotlib>=3.3.3->pyboolnet==3.0.11) (9.4.0)\n",
      "Requirement already satisfied: pyparsing>=2.3.1 in /usr/local/lib/python3.10/dist-packages (from matplotlib>=3.3.3->pyboolnet==3.0.11) (3.1.1)\n",
      "Requirement already satisfied: python-dateutil>=2.7 in /usr/local/lib/python3.10/dist-packages (from matplotlib>=3.3.3->pyboolnet==3.0.11) (2.8.2)\n",
      "Requirement already satisfied: iniconfig in /usr/local/lib/python3.10/dist-packages (from pytest->pyboolnet==3.0.11) (2.0.0)\n",
      "Requirement already satisfied: pluggy<2.0,>=0.12 in /usr/local/lib/python3.10/dist-packages (from pytest->pyboolnet==3.0.11) (1.3.0)\n",
      "Requirement already satisfied: exceptiongroup>=1.0.0rc8 in /usr/local/lib/python3.10/dist-packages (from pytest->pyboolnet==3.0.11) (1.1.3)\n",
      "Requirement already satisfied: tomli>=1.0.0 in /usr/local/lib/python3.10/dist-packages (from pytest->pyboolnet==3.0.11) (2.0.1)\n",
      "Requirement already satisfied: six>=1.5 in /usr/local/lib/python3.10/dist-packages (from python-dateutil>=2.7->matplotlib>=3.3.3->pyboolnet==3.0.11) (1.16.0)\n",
      "Building wheels for collected packages: pyboolnet\n",
      "  Building wheel for pyboolnet (setup.py) ... \u001B[?25l\u001B[?25hdone\n",
      "  Created wheel for pyboolnet: filename=pyboolnet-3.0.11-py3-none-any.whl size=4357445 sha256=1981e2bd972b5ab32454c160a2f5294228216aed58f81b0a107b82f1394a1a09\n",
      "  Stored in directory: /tmp/pip-ephem-wheel-cache-utb3w7n0/wheels/46/0e/ce/ff6a66e82497bff96dab31657d81c773e2a590d2bd7d097e8a\n",
      "Successfully built pyboolnet\n",
      "Installing collected packages: pyboolnet\n",
      "Successfully installed pyboolnet-3.0.11\n"
     ]
    }
   ],
   "source": [
    "!pip3 install networkx\n",
    "!pip3 install git+https://github.com/hklarner/pyboolnet"
   ]
  },
  {
   "cell_type": "markdown",
   "source": [
    "### Load python modules"
   ],
   "metadata": {
    "collapsed": false,
    "id": "QrJpHtYlZeUc"
   }
  },
  {
   "cell_type": "code",
   "source": [
    "import pyboolnet\n",
    "import ast\n",
    "from pyboolnet import file_exchange # load and write the network to file\n",
    "from pyboolnet import interaction_graphs as ig # create the networkx graph\n",
    "import networkx as nx\n",
    "import matplotlib.pyplot as plt\n",
    "from pyboolnet import state_transition_graphs as STGs # To get the state transition graphs\n",
    "import random # to choose one succesor state\n",
    "from pyboolnet import attractors as AD # To detect attractors"
   ],
   "metadata": {
    "id": "Jbpo74hConS5",
    "executionInfo": {
     "status": "ok",
     "timestamp": 1701252525824,
     "user_tz": -60,
     "elapsed": 265,
     "user": {
      "displayName": "Aurelio Angel Moya Garcia",
      "userId": "06239010930884764093"
     }
    },
    "ExecuteTime": {
     "end_time": "2023-11-29T11:13:09.636464Z",
     "start_time": "2023-11-29T11:13:09.622735Z"
    }
   },
   "execution_count": 33,
   "outputs": []
  },
  {
   "cell_type": "markdown",
   "source": [
    "### Generate the boolean network for the C1 FFL\n",
    "In Python we represent prime implicants as nested dictionaries and lists. The prime implicants of a network with three components v1, v2, v3 and three update functions f1, f2, f3 that are defined by:"
   ],
   "metadata": {
    "id": "0iFVvZdDob15"
   }
  },
  {
   "cell_type": "code",
   "source": [
    "bnet = \"\"\"\n",
    "X, X           # Input node, always active once set\n",
    "Y, X           # Intermediate node, activated by X\n",
    "Z, X and Y     # Output node, activated by both X and Y\n",
    "\"\"\""
   ],
   "metadata": {
    "id": "_2f99gpJnv0t",
    "executionInfo": {
     "status": "ok",
     "timestamp": 1701252365560,
     "user_tz": -60,
     "elapsed": 251,
     "user": {
      "displayName": "Aurelio Angel Moya Garcia",
      "userId": "06239010930884764093"
     }
    },
    "ExecuteTime": {
     "end_time": "2023-11-29T10:22:29.792922Z",
     "start_time": "2023-11-29T10:22:29.786745Z"
    }
   },
   "execution_count": 16,
   "outputs": []
  },
  {
   "cell_type": "markdown",
   "source": [
    "PyBoolNet needs the prime implicants that are a fundamental concept used to represent the state transitions of Boolean networks in a detailed and mathematically rigorous way. They offer a more granular view of how the states of different nodes (or genes) in the network influence each other, compared to simpler representations like truth tables or the `.bnet` format.\n",
    "\n",
    "Here's a breakdown of what prime implicants are and how they function within the context of PyBoolNet and Boolean network analysis:\n",
    "\n",
    "1. **Definition**: \n",
    "   - A prime implicant in the context of Boolean networks is a minimal set of conditions that uniquely determine the state of a node. \n",
    "   - Each prime implicant represents a combination of states of other nodes that will lead to a particular state of the target node.\n",
    "\n",
    "2. **Structure**:\n",
    "   - In PyBoolNet, primes are represented as a dictionary where each key is a node in the network, and the value is a list of prime implicants for that node.\n",
    "   - Each prime implicant is itself a list of dictionaries. Each dictionary represents a unique condition under which the node is active (or inactive).\n",
    "\n",
    "3. **Example**:\n",
    "   - Consider a simple network with two nodes, X and Y, where Y is activated if X is active. The primes might look like this:\n",
    "     ```python\n",
    "     primes = {\n",
    "         'X': [[{'X': 1}], [{'X': 0}]],\n",
    "         'Y': [[{'X': 1}], [{'X': 0}]]\n",
    "     }\n",
    "     ```\n",
    "   - For `X`, the prime `[[{'X': 1}], [{'X': 0}]]` means that X stays in its current state (it's a self-loop).\n",
    "   - For `Y`, the prime `[[{'X': 1}], [{'X': 0}]]` means that Y is active (`1`) when X is active (`{'X': 1}`), and Y is inactive (`0`) when X is inactive (`{'X': 0}`).\n",
    "\n",
    "4. **Use in Analysis**:\n",
    "   - Prime implicants are used in various types of analysis in PyBoolNet, such as computing attractors, creating state transition graphs, and performing model checking.\n",
    "   - They provide a precise and compact way to represent the logic of the network, which is essential for computational analysis.\n",
    "\n",
    "Understanding primes is crucial for effectively using PyBoolNet, as they are key to representing and analyzing the complex relationships in Boolean networks, especially in systems biology and related fields.\n",
    "\n",
    "The following code converts the rules defined in bnet to primes, but it does not interpret the bnet correctly. Run the code and try to guess what is going on."
   ],
   "metadata": {
    "collapsed": false
   }
  },
  {
   "cell_type": "code",
   "source": [
    "print(bnet)\n",
    "primes = file_exchange.bnet2primes(bnet)\n",
    "\n",
    "print(primes)"
   ],
   "metadata": {
    "id": "74gUB5WZpd6R",
    "ExecuteTime": {
     "end_time": "2023-11-29T09:23:27.315697Z",
     "start_time": "2023-11-29T09:23:27.293605Z"
    },
    "colab": {
     "base_uri": "https://localhost:8080/"
    },
    "executionInfo": {
     "status": "ok",
     "timestamp": 1701252386522,
     "user_tz": -60,
     "elapsed": 10,
     "user": {
      "displayName": "Aurelio Angel Moya Garcia",
      "userId": "06239010930884764093"
     }
    },
    "outputId": "e184a2cb-b857-422e-fa73-bc03777a1bb6"
   },
   "execution_count": 29,
   "outputs": [
    {
     "output_type": "stream",
     "name": "stdout",
     "text": [
      "\n",
      "X, X           # Input node, always active once set\n",
      "Y, X           # Intermediate node, activated by X\n",
      "Z, X and Y     # Output node, activated by both X and Y\n",
      "\n",
      "{'X': [[{'X': 0}], [{'X': 1}]], 'XandY': [[{'XandY': 0}], [{'XandY': 1}]], 'Y': [[{'X': 0}], [{'X': 1}]], 'Z': [[{'XandY': 0}], [{'XandY': 1}]]}\n"
     ]
    }
   ]
  },
  {
   "cell_type": "markdown",
   "source": [
    "We can define the primes as a string and convert them to a dictionary so PyBoolNet can make things right"
   ],
   "metadata": {
    "collapsed": false
   }
  },
  {
   "cell_type": "code",
   "execution_count": 20,
   "outputs": [
    {
     "name": "stdout",
     "output_type": "stream",
     "text": [
      "{'X': [[{'X': 1}], [{'X': 0}]], 'Y': [[{'X': 1}], [{'X': 0}]], 'Z': [[{'X': 1, 'Y': 1}], [{'X': 0}, {'Y': 0}]]}\n"
     ]
    }
   ],
   "source": [
    "# Define the primes as a string\n",
    "primes_string = \"\"\"\n",
    "{\n",
    "    'X': [[{'X': 1}], [{'X': 0}]],\n",
    "    'Y': [[{'X': 1}], [{'X': 0}]],\n",
    "    'Z': [[{'X': 1, 'Y': 1}], [{'X': 0}, {'Y': 0}]]\n",
    "}\n",
    "\"\"\"\n",
    "\n",
    "# Convert the string to a dictionary\n",
    "primes = ast.literal_eval(primes_string)\n",
    "\n",
    "# Now 'primes' is a dictionary that can be used with PyBoolNet\n",
    "\n",
    "print(primes)"
   ],
   "metadata": {
    "collapsed": false,
    "ExecuteTime": {
     "end_time": "2023-11-29T10:47:52.161768Z",
     "start_time": "2023-11-29T10:47:52.157326Z"
    }
   }
  },
  {
   "cell_type": "markdown",
   "source": [
    "### Initialize the states of the nodes"
   ],
   "metadata": {
    "collapsed": false,
    "id": "WJRn0yi1ZeUe"
   }
  },
  {
   "cell_type": "code",
   "execution_count": 23,
   "outputs": [],
   "source": [
    "initial_state = {'X': 0, 'Y': 0, 'Z': 0}"
   ],
   "metadata": {
    "id": "2pMqmZXDZeUe",
    "executionInfo": {
     "status": "ok",
     "timestamp": 1701250614313,
     "user_tz": -60,
     "elapsed": 389,
     "user": {
      "displayName": "Aurelio Angel Moya Garcia",
      "userId": "06239010930884764093"
     }
    },
    "ExecuteTime": {
     "end_time": "2023-11-29T10:48:39.139586Z",
     "start_time": "2023-11-29T10:48:39.130672Z"
    }
   }
  },
  {
   "cell_type": "markdown",
   "source": [
    "### Define the simulation of the network\n",
    "This establishes the simulation of the network. The simulation is asynchronous, meaning the states of the nodes are updated one by one in a random order."
   ],
   "metadata": {
    "collapsed": false,
    "id": "7UkdAAgdZeUe"
   }
  },
  {
   "cell_type": "code",
   "execution_count": 34,
   "outputs": [],
   "source": [
    "def simulate_network(primes, initial_state, steps):\n",
    "    current_state = initial_state.copy()\n",
    "    history = []\n",
    "\n",
    "    for _ in range(steps):\n",
    "        history.append(current_state.copy())\n",
    "        next_states = STGs.successors_asynchronous(primes, current_state)  # Compute the next possible states, it is a list of possible states each one a dictionary\n",
    "        # Choose one of the possible next states\n",
    "        if next_states:\n",
    "            current_state = random.choice(next_states)\n",
    "        else:\n",
    "            break  # No more transitions possible\n",
    "        #current_state = STGs.successors_asynchronous(primes, current_state)\n",
    "        #current_state = next_state if isinstance(next_state, dict) else dict(next_state) # Update current_state for the next iteration. Make sure current stat is a dictionary as expected by successors_asynchronous\n",
    "\n",
    "\n",
    "    return history"
   ],
   "metadata": {
    "id": "PWbfVFsDZeUe",
    "executionInfo": {
     "status": "ok",
     "timestamp": 1701250618462,
     "user_tz": -60,
     "elapsed": 244,
     "user": {
      "displayName": "Aurelio Angel Moya Garcia",
      "userId": "06239010930884764093"
     }
    },
    "ExecuteTime": {
     "end_time": "2023-11-29T11:13:18.811679Z",
     "start_time": "2023-11-29T11:13:18.801962Z"
    }
   }
  },
  {
   "cell_type": "markdown",
   "source": [
    "### Run the simulation for a number of steps"
   ],
   "metadata": {
    "collapsed": false,
    "id": "5viAVaE6ZeUf"
   }
  },
  {
   "cell_type": "code",
   "execution_count": 46,
   "outputs": [],
   "source": [
    "steps = 500  # You can adjust the number of steps\n",
    "simulation_history = simulate_network(primes, initial_state, steps)"
   ],
   "metadata": {
    "colab": {
     "base_uri": "https://localhost:8080/",
     "height": 310
    },
    "id": "q2BecHExZeUf",
    "executionInfo": {
     "status": "error",
     "timestamp": 1701250623876,
     "user_tz": -60,
     "elapsed": 358,
     "user": {
      "displayName": "Aurelio Angel Moya Garcia",
      "userId": "06239010930884764093"
     }
    },
    "outputId": "bee8d7bb-d2fe-4303-de2a-2d38861cf672",
    "ExecuteTime": {
     "end_time": "2023-11-29T11:21:50.546561Z",
     "start_time": "2023-11-29T11:21:50.541198Z"
    }
   }
  },
  {
   "cell_type": "markdown",
   "source": [
    "### Print the simulation results"
   ],
   "metadata": {
    "collapsed": false,
    "id": "9wiHq34YZeUf"
   }
  },
  {
   "cell_type": "code",
   "execution_count": 47,
   "outputs": [
    {
     "name": "stdout",
     "output_type": "stream",
     "text": [
      "Step 0: {'X': 0, 'Y': 0, 'Z': 0}\n",
      "Step 1: {'X': 0, 'Y': 1, 'Z': 0}\n",
      "Step 2: {'X': 1, 'Y': 1, 'Z': 0}\n",
      "Step 3: {'X': 0, 'Y': 1, 'Z': 0}\n",
      "Step 4: {'X': 1, 'Y': 1, 'Z': 0}\n",
      "Step 5: {'X': 1, 'Y': 0, 'Z': 0}\n",
      "Step 6: {'X': 0, 'Y': 0, 'Z': 0}\n",
      "Step 7: {'X': 0, 'Y': 0, 'Z': 1}\n",
      "Step 8: {'X': 0, 'Y': 1, 'Z': 1}\n",
      "Step 9: {'X': 1, 'Y': 1, 'Z': 1}\n",
      "Step 10: {'X': 0, 'Y': 1, 'Z': 1}\n",
      "Step 11: {'X': 1, 'Y': 1, 'Z': 1}\n",
      "Step 12: {'X': 0, 'Y': 1, 'Z': 1}\n",
      "Step 13: {'X': 1, 'Y': 1, 'Z': 1}\n",
      "Step 14: {'X': 1, 'Y': 0, 'Z': 1}\n",
      "Step 15: {'X': 0, 'Y': 0, 'Z': 1}\n",
      "Step 16: {'X': 1, 'Y': 0, 'Z': 1}\n",
      "Step 17: {'X': 0, 'Y': 0, 'Z': 1}\n",
      "Step 18: {'X': 0, 'Y': 1, 'Z': 1}\n",
      "Step 19: {'X': 1, 'Y': 1, 'Z': 1}\n",
      "Step 20: {'X': 1, 'Y': 0, 'Z': 1}\n",
      "Step 21: {'X': 0, 'Y': 0, 'Z': 1}\n",
      "Step 22: {'X': 0, 'Y': 1, 'Z': 1}\n",
      "Step 23: {'X': 1, 'Y': 1, 'Z': 1}\n",
      "Step 24: {'X': 1, 'Y': 0, 'Z': 1}\n",
      "Step 25: {'X': 0, 'Y': 0, 'Z': 1}\n",
      "Step 26: {'X': 0, 'Y': 1, 'Z': 1}\n",
      "Step 27: {'X': 1, 'Y': 1, 'Z': 1}\n",
      "Step 28: {'X': 0, 'Y': 1, 'Z': 1}\n",
      "Step 29: {'X': 1, 'Y': 1, 'Z': 1}\n",
      "Step 30: {'X': 0, 'Y': 1, 'Z': 1}\n",
      "Step 31: {'X': 1, 'Y': 1, 'Z': 1}\n",
      "Step 32: {'X': 1, 'Y': 0, 'Z': 1}\n",
      "Step 33: {'X': 0, 'Y': 0, 'Z': 1}\n",
      "Step 34: {'X': 0, 'Y': 1, 'Z': 1}\n",
      "Step 35: {'X': 1, 'Y': 1, 'Z': 1}\n",
      "Step 36: {'X': 1, 'Y': 0, 'Z': 1}\n",
      "Step 37: {'X': 0, 'Y': 0, 'Z': 1}\n",
      "Step 38: {'X': 1, 'Y': 0, 'Z': 1}\n",
      "Step 39: {'X': 0, 'Y': 0, 'Z': 1}\n",
      "Step 40: {'X': 0, 'Y': 1, 'Z': 1}\n",
      "Step 41: {'X': 1, 'Y': 1, 'Z': 1}\n",
      "Step 42: {'X': 1, 'Y': 0, 'Z': 1}\n",
      "Step 43: {'X': 0, 'Y': 0, 'Z': 1}\n",
      "Step 44: {'X': 1, 'Y': 0, 'Z': 1}\n",
      "Step 45: {'X': 0, 'Y': 0, 'Z': 1}\n",
      "Step 46: {'X': 0, 'Y': 1, 'Z': 1}\n",
      "Step 47: {'X': 1, 'Y': 1, 'Z': 1}\n",
      "Step 48: {'X': 0, 'Y': 1, 'Z': 1}\n",
      "Step 49: {'X': 1, 'Y': 1, 'Z': 1}\n",
      "Step 50: {'X': 0, 'Y': 1, 'Z': 1}\n",
      "Step 51: {'X': 1, 'Y': 1, 'Z': 1}\n",
      "Step 52: {'X': 0, 'Y': 1, 'Z': 1}\n",
      "Step 53: {'X': 1, 'Y': 1, 'Z': 1}\n",
      "Step 54: {'X': 0, 'Y': 1, 'Z': 1}\n",
      "Step 55: {'X': 1, 'Y': 1, 'Z': 1}\n",
      "Step 56: {'X': 0, 'Y': 1, 'Z': 1}\n",
      "Step 57: {'X': 1, 'Y': 1, 'Z': 1}\n",
      "Step 58: {'X': 1, 'Y': 1, 'Z': 0}\n",
      "Step 59: {'X': 0, 'Y': 1, 'Z': 0}\n",
      "Step 60: {'X': 0, 'Y': 1, 'Z': 1}\n",
      "Step 61: {'X': 1, 'Y': 1, 'Z': 1}\n",
      "Step 62: {'X': 1, 'Y': 0, 'Z': 1}\n",
      "Step 63: {'X': 0, 'Y': 0, 'Z': 1}\n",
      "Step 64: {'X': 0, 'Y': 1, 'Z': 1}\n",
      "Step 65: {'X': 1, 'Y': 1, 'Z': 1}\n",
      "Step 66: {'X': 0, 'Y': 1, 'Z': 1}\n",
      "Step 67: {'X': 1, 'Y': 1, 'Z': 1}\n",
      "Step 68: {'X': 1, 'Y': 0, 'Z': 1}\n",
      "Step 69: {'X': 0, 'Y': 0, 'Z': 1}\n",
      "Step 70: {'X': 0, 'Y': 1, 'Z': 1}\n",
      "Step 71: {'X': 1, 'Y': 1, 'Z': 1}\n",
      "Step 72: {'X': 0, 'Y': 1, 'Z': 1}\n",
      "Step 73: {'X': 1, 'Y': 1, 'Z': 1}\n",
      "Step 74: {'X': 1, 'Y': 0, 'Z': 1}\n",
      "Step 75: {'X': 0, 'Y': 0, 'Z': 1}\n",
      "Step 76: {'X': 0, 'Y': 1, 'Z': 1}\n",
      "Step 77: {'X': 1, 'Y': 1, 'Z': 1}\n",
      "Step 78: {'X': 1, 'Y': 0, 'Z': 1}\n",
      "Step 79: {'X': 0, 'Y': 0, 'Z': 1}\n",
      "Step 80: {'X': 1, 'Y': 0, 'Z': 1}\n",
      "Step 81: {'X': 0, 'Y': 0, 'Z': 1}\n",
      "Step 82: {'X': 1, 'Y': 0, 'Z': 1}\n",
      "Step 83: {'X': 0, 'Y': 0, 'Z': 1}\n",
      "Step 84: {'X': 0, 'Y': 1, 'Z': 1}\n",
      "Step 85: {'X': 1, 'Y': 1, 'Z': 1}\n",
      "Step 86: {'X': 0, 'Y': 1, 'Z': 1}\n",
      "Step 87: {'X': 1, 'Y': 1, 'Z': 1}\n",
      "Step 88: {'X': 1, 'Y': 0, 'Z': 1}\n",
      "Step 89: {'X': 0, 'Y': 0, 'Z': 1}\n",
      "Step 90: {'X': 0, 'Y': 1, 'Z': 1}\n",
      "Step 91: {'X': 1, 'Y': 1, 'Z': 1}\n",
      "Step 92: {'X': 1, 'Y': 1, 'Z': 0}\n",
      "Step 93: {'X': 1, 'Y': 0, 'Z': 0}\n",
      "Step 94: {'X': 0, 'Y': 0, 'Z': 0}\n",
      "Step 95: {'X': 0, 'Y': 0, 'Z': 1}\n",
      "Step 96: {'X': 1, 'Y': 0, 'Z': 1}\n",
      "Step 97: {'X': 0, 'Y': 0, 'Z': 1}\n",
      "Step 98: {'X': 0, 'Y': 1, 'Z': 1}\n",
      "Step 99: {'X': 1, 'Y': 1, 'Z': 1}\n",
      "Step 100: {'X': 1, 'Y': 1, 'Z': 0}\n",
      "Step 101: {'X': 0, 'Y': 1, 'Z': 0}\n",
      "Step 102: {'X': 0, 'Y': 1, 'Z': 1}\n",
      "Step 103: {'X': 1, 'Y': 1, 'Z': 1}\n",
      "Step 104: {'X': 1, 'Y': 1, 'Z': 0}\n",
      "Step 105: {'X': 1, 'Y': 0, 'Z': 0}\n",
      "Step 106: {'X': 0, 'Y': 0, 'Z': 0}\n",
      "Step 107: {'X': 0, 'Y': 1, 'Z': 0}\n",
      "Step 108: {'X': 0, 'Y': 1, 'Z': 1}\n",
      "Step 109: {'X': 1, 'Y': 1, 'Z': 1}\n",
      "Step 110: {'X': 0, 'Y': 1, 'Z': 1}\n",
      "Step 111: {'X': 1, 'Y': 1, 'Z': 1}\n",
      "Step 112: {'X': 0, 'Y': 1, 'Z': 1}\n",
      "Step 113: {'X': 1, 'Y': 1, 'Z': 1}\n",
      "Step 114: {'X': 0, 'Y': 1, 'Z': 1}\n",
      "Step 115: {'X': 1, 'Y': 1, 'Z': 1}\n",
      "Step 116: {'X': 0, 'Y': 1, 'Z': 1}\n",
      "Step 117: {'X': 1, 'Y': 1, 'Z': 1}\n",
      "Step 118: {'X': 1, 'Y': 1, 'Z': 0}\n",
      "Step 119: {'X': 0, 'Y': 1, 'Z': 0}\n",
      "Step 120: {'X': 0, 'Y': 1, 'Z': 1}\n",
      "Step 121: {'X': 1, 'Y': 1, 'Z': 1}\n",
      "Step 122: {'X': 1, 'Y': 1, 'Z': 0}\n",
      "Step 123: {'X': 1, 'Y': 0, 'Z': 0}\n",
      "Step 124: {'X': 1, 'Y': 0, 'Z': 1}\n",
      "Step 125: {'X': 0, 'Y': 0, 'Z': 1}\n",
      "Step 126: {'X': 1, 'Y': 0, 'Z': 1}\n",
      "Step 127: {'X': 0, 'Y': 0, 'Z': 1}\n",
      "Step 128: {'X': 0, 'Y': 1, 'Z': 1}\n",
      "Step 129: {'X': 1, 'Y': 1, 'Z': 1}\n",
      "Step 130: {'X': 1, 'Y': 1, 'Z': 0}\n",
      "Step 131: {'X': 0, 'Y': 1, 'Z': 0}\n",
      "Step 132: {'X': 0, 'Y': 1, 'Z': 1}\n",
      "Step 133: {'X': 1, 'Y': 1, 'Z': 1}\n",
      "Step 134: {'X': 1, 'Y': 0, 'Z': 1}\n",
      "Step 135: {'X': 0, 'Y': 0, 'Z': 1}\n",
      "Step 136: {'X': 1, 'Y': 0, 'Z': 1}\n",
      "Step 137: {'X': 0, 'Y': 0, 'Z': 1}\n",
      "Step 138: {'X': 1, 'Y': 0, 'Z': 1}\n",
      "Step 139: {'X': 0, 'Y': 0, 'Z': 1}\n",
      "Step 140: {'X': 0, 'Y': 1, 'Z': 1}\n",
      "Step 141: {'X': 1, 'Y': 1, 'Z': 1}\n",
      "Step 142: {'X': 1, 'Y': 0, 'Z': 1}\n",
      "Step 143: {'X': 0, 'Y': 0, 'Z': 1}\n",
      "Step 144: {'X': 0, 'Y': 1, 'Z': 1}\n",
      "Step 145: {'X': 1, 'Y': 1, 'Z': 1}\n",
      "Step 146: {'X': 1, 'Y': 1, 'Z': 0}\n",
      "Step 147: {'X': 0, 'Y': 1, 'Z': 0}\n",
      "Step 148: {'X': 1, 'Y': 1, 'Z': 0}\n",
      "Step 149: {'X': 1, 'Y': 0, 'Z': 0}\n",
      "Step 150: {'X': 0, 'Y': 0, 'Z': 0}\n",
      "Step 151: {'X': 1, 'Y': 0, 'Z': 0}\n",
      "Step 152: {'X': 1, 'Y': 0, 'Z': 1}\n",
      "Step 153: {'X': 0, 'Y': 0, 'Z': 1}\n",
      "Step 154: {'X': 1, 'Y': 0, 'Z': 1}\n",
      "Step 155: {'X': 0, 'Y': 0, 'Z': 1}\n",
      "Step 156: {'X': 1, 'Y': 0, 'Z': 1}\n",
      "Step 157: {'X': 0, 'Y': 0, 'Z': 1}\n",
      "Step 158: {'X': 1, 'Y': 0, 'Z': 1}\n",
      "Step 159: {'X': 0, 'Y': 0, 'Z': 1}\n",
      "Step 160: {'X': 0, 'Y': 1, 'Z': 1}\n",
      "Step 161: {'X': 1, 'Y': 1, 'Z': 1}\n",
      "Step 162: {'X': 1, 'Y': 0, 'Z': 1}\n",
      "Step 163: {'X': 0, 'Y': 0, 'Z': 1}\n",
      "Step 164: {'X': 0, 'Y': 1, 'Z': 1}\n",
      "Step 165: {'X': 1, 'Y': 1, 'Z': 1}\n",
      "Step 166: {'X': 1, 'Y': 1, 'Z': 0}\n",
      "Step 167: {'X': 0, 'Y': 1, 'Z': 0}\n",
      "Step 168: {'X': 0, 'Y': 1, 'Z': 1}\n",
      "Step 169: {'X': 1, 'Y': 1, 'Z': 1}\n",
      "Step 170: {'X': 1, 'Y': 1, 'Z': 0}\n",
      "Step 171: {'X': 1, 'Y': 0, 'Z': 0}\n",
      "Step 172: {'X': 1, 'Y': 0, 'Z': 1}\n",
      "Step 173: {'X': 0, 'Y': 0, 'Z': 1}\n",
      "Step 174: {'X': 0, 'Y': 1, 'Z': 1}\n",
      "Step 175: {'X': 1, 'Y': 1, 'Z': 1}\n",
      "Step 176: {'X': 0, 'Y': 1, 'Z': 1}\n",
      "Step 177: {'X': 1, 'Y': 1, 'Z': 1}\n",
      "Step 178: {'X': 1, 'Y': 1, 'Z': 0}\n",
      "Step 179: {'X': 1, 'Y': 0, 'Z': 0}\n",
      "Step 180: {'X': 0, 'Y': 0, 'Z': 0}\n",
      "Step 181: {'X': 0, 'Y': 1, 'Z': 0}\n",
      "Step 182: {'X': 0, 'Y': 1, 'Z': 1}\n",
      "Step 183: {'X': 1, 'Y': 1, 'Z': 1}\n",
      "Step 184: {'X': 1, 'Y': 1, 'Z': 0}\n",
      "Step 185: {'X': 0, 'Y': 1, 'Z': 0}\n",
      "Step 186: {'X': 1, 'Y': 1, 'Z': 0}\n",
      "Step 187: {'X': 1, 'Y': 0, 'Z': 0}\n",
      "Step 188: {'X': 1, 'Y': 0, 'Z': 1}\n",
      "Step 189: {'X': 0, 'Y': 0, 'Z': 1}\n",
      "Step 190: {'X': 0, 'Y': 1, 'Z': 1}\n",
      "Step 191: {'X': 1, 'Y': 1, 'Z': 1}\n",
      "Step 192: {'X': 0, 'Y': 1, 'Z': 1}\n",
      "Step 193: {'X': 1, 'Y': 1, 'Z': 1}\n",
      "Step 194: {'X': 1, 'Y': 1, 'Z': 0}\n",
      "Step 195: {'X': 1, 'Y': 0, 'Z': 0}\n",
      "Step 196: {'X': 1, 'Y': 0, 'Z': 1}\n",
      "Step 197: {'X': 0, 'Y': 0, 'Z': 1}\n",
      "Step 198: {'X': 1, 'Y': 0, 'Z': 1}\n",
      "Step 199: {'X': 0, 'Y': 0, 'Z': 1}\n",
      "Step 200: {'X': 0, 'Y': 1, 'Z': 1}\n",
      "Step 201: {'X': 1, 'Y': 1, 'Z': 1}\n",
      "Step 202: {'X': 1, 'Y': 1, 'Z': 0}\n",
      "Step 203: {'X': 0, 'Y': 1, 'Z': 0}\n",
      "Step 204: {'X': 1, 'Y': 1, 'Z': 0}\n",
      "Step 205: {'X': 0, 'Y': 1, 'Z': 0}\n",
      "Step 206: {'X': 0, 'Y': 1, 'Z': 1}\n",
      "Step 207: {'X': 1, 'Y': 1, 'Z': 1}\n",
      "Step 208: {'X': 1, 'Y': 1, 'Z': 0}\n",
      "Step 209: {'X': 1, 'Y': 0, 'Z': 0}\n",
      "Step 210: {'X': 0, 'Y': 0, 'Z': 0}\n",
      "Step 211: {'X': 0, 'Y': 0, 'Z': 1}\n",
      "Step 212: {'X': 0, 'Y': 1, 'Z': 1}\n",
      "Step 213: {'X': 1, 'Y': 1, 'Z': 1}\n",
      "Step 214: {'X': 1, 'Y': 0, 'Z': 1}\n",
      "Step 215: {'X': 0, 'Y': 0, 'Z': 1}\n",
      "Step 216: {'X': 0, 'Y': 1, 'Z': 1}\n",
      "Step 217: {'X': 1, 'Y': 1, 'Z': 1}\n",
      "Step 218: {'X': 1, 'Y': 0, 'Z': 1}\n",
      "Step 219: {'X': 0, 'Y': 0, 'Z': 1}\n",
      "Step 220: {'X': 1, 'Y': 0, 'Z': 1}\n",
      "Step 221: {'X': 0, 'Y': 0, 'Z': 1}\n",
      "Step 222: {'X': 0, 'Y': 1, 'Z': 1}\n",
      "Step 223: {'X': 1, 'Y': 1, 'Z': 1}\n",
      "Step 224: {'X': 1, 'Y': 0, 'Z': 1}\n",
      "Step 225: {'X': 0, 'Y': 0, 'Z': 1}\n",
      "Step 226: {'X': 1, 'Y': 0, 'Z': 1}\n",
      "Step 227: {'X': 0, 'Y': 0, 'Z': 1}\n",
      "Step 228: {'X': 0, 'Y': 1, 'Z': 1}\n",
      "Step 229: {'X': 1, 'Y': 1, 'Z': 1}\n",
      "Step 230: {'X': 0, 'Y': 1, 'Z': 1}\n",
      "Step 231: {'X': 1, 'Y': 1, 'Z': 1}\n",
      "Step 232: {'X': 1, 'Y': 0, 'Z': 1}\n",
      "Step 233: {'X': 0, 'Y': 0, 'Z': 1}\n",
      "Step 234: {'X': 1, 'Y': 0, 'Z': 1}\n",
      "Step 235: {'X': 0, 'Y': 0, 'Z': 1}\n",
      "Step 236: {'X': 1, 'Y': 0, 'Z': 1}\n",
      "Step 237: {'X': 0, 'Y': 0, 'Z': 1}\n",
      "Step 238: {'X': 0, 'Y': 1, 'Z': 1}\n",
      "Step 239: {'X': 1, 'Y': 1, 'Z': 1}\n",
      "Step 240: {'X': 1, 'Y': 0, 'Z': 1}\n",
      "Step 241: {'X': 0, 'Y': 0, 'Z': 1}\n",
      "Step 242: {'X': 0, 'Y': 1, 'Z': 1}\n",
      "Step 243: {'X': 1, 'Y': 1, 'Z': 1}\n",
      "Step 244: {'X': 1, 'Y': 0, 'Z': 1}\n",
      "Step 245: {'X': 0, 'Y': 0, 'Z': 1}\n",
      "Step 246: {'X': 1, 'Y': 0, 'Z': 1}\n",
      "Step 247: {'X': 0, 'Y': 0, 'Z': 1}\n",
      "Step 248: {'X': 0, 'Y': 1, 'Z': 1}\n",
      "Step 249: {'X': 1, 'Y': 1, 'Z': 1}\n",
      "Step 250: {'X': 0, 'Y': 1, 'Z': 1}\n",
      "Step 251: {'X': 1, 'Y': 1, 'Z': 1}\n",
      "Step 252: {'X': 1, 'Y': 0, 'Z': 1}\n",
      "Step 253: {'X': 0, 'Y': 0, 'Z': 1}\n",
      "Step 254: {'X': 1, 'Y': 0, 'Z': 1}\n",
      "Step 255: {'X': 0, 'Y': 0, 'Z': 1}\n",
      "Step 256: {'X': 1, 'Y': 0, 'Z': 1}\n",
      "Step 257: {'X': 0, 'Y': 0, 'Z': 1}\n",
      "Step 258: {'X': 1, 'Y': 0, 'Z': 1}\n",
      "Step 259: {'X': 0, 'Y': 0, 'Z': 1}\n",
      "Step 260: {'X': 0, 'Y': 1, 'Z': 1}\n",
      "Step 261: {'X': 1, 'Y': 1, 'Z': 1}\n",
      "Step 262: {'X': 0, 'Y': 1, 'Z': 1}\n",
      "Step 263: {'X': 1, 'Y': 1, 'Z': 1}\n",
      "Step 264: {'X': 0, 'Y': 1, 'Z': 1}\n",
      "Step 265: {'X': 1, 'Y': 1, 'Z': 1}\n",
      "Step 266: {'X': 1, 'Y': 1, 'Z': 0}\n",
      "Step 267: {'X': 0, 'Y': 1, 'Z': 0}\n",
      "Step 268: {'X': 0, 'Y': 1, 'Z': 1}\n",
      "Step 269: {'X': 1, 'Y': 1, 'Z': 1}\n",
      "Step 270: {'X': 1, 'Y': 1, 'Z': 0}\n",
      "Step 271: {'X': 1, 'Y': 0, 'Z': 0}\n",
      "Step 272: {'X': 0, 'Y': 0, 'Z': 0}\n",
      "Step 273: {'X': 0, 'Y': 1, 'Z': 0}\n",
      "Step 274: {'X': 0, 'Y': 1, 'Z': 1}\n",
      "Step 275: {'X': 1, 'Y': 1, 'Z': 1}\n",
      "Step 276: {'X': 1, 'Y': 0, 'Z': 1}\n",
      "Step 277: {'X': 0, 'Y': 0, 'Z': 1}\n",
      "Step 278: {'X': 0, 'Y': 1, 'Z': 1}\n",
      "Step 279: {'X': 1, 'Y': 1, 'Z': 1}\n",
      "Step 280: {'X': 1, 'Y': 0, 'Z': 1}\n",
      "Step 281: {'X': 0, 'Y': 0, 'Z': 1}\n",
      "Step 282: {'X': 1, 'Y': 0, 'Z': 1}\n",
      "Step 283: {'X': 0, 'Y': 0, 'Z': 1}\n",
      "Step 284: {'X': 0, 'Y': 1, 'Z': 1}\n",
      "Step 285: {'X': 1, 'Y': 1, 'Z': 1}\n",
      "Step 286: {'X': 1, 'Y': 1, 'Z': 0}\n",
      "Step 287: {'X': 0, 'Y': 1, 'Z': 0}\n",
      "Step 288: {'X': 0, 'Y': 1, 'Z': 1}\n",
      "Step 289: {'X': 1, 'Y': 1, 'Z': 1}\n",
      "Step 290: {'X': 0, 'Y': 1, 'Z': 1}\n",
      "Step 291: {'X': 1, 'Y': 1, 'Z': 1}\n",
      "Step 292: {'X': 1, 'Y': 1, 'Z': 0}\n",
      "Step 293: {'X': 0, 'Y': 1, 'Z': 0}\n",
      "Step 294: {'X': 1, 'Y': 1, 'Z': 0}\n",
      "Step 295: {'X': 1, 'Y': 0, 'Z': 0}\n",
      "Step 296: {'X': 1, 'Y': 0, 'Z': 1}\n",
      "Step 297: {'X': 0, 'Y': 0, 'Z': 1}\n",
      "Step 298: {'X': 1, 'Y': 0, 'Z': 1}\n",
      "Step 299: {'X': 0, 'Y': 0, 'Z': 1}\n",
      "Step 300: {'X': 1, 'Y': 0, 'Z': 1}\n",
      "Step 301: {'X': 0, 'Y': 0, 'Z': 1}\n",
      "Step 302: {'X': 1, 'Y': 0, 'Z': 1}\n",
      "Step 303: {'X': 0, 'Y': 0, 'Z': 1}\n",
      "Step 304: {'X': 0, 'Y': 1, 'Z': 1}\n",
      "Step 305: {'X': 1, 'Y': 1, 'Z': 1}\n",
      "Step 306: {'X': 0, 'Y': 1, 'Z': 1}\n",
      "Step 307: {'X': 1, 'Y': 1, 'Z': 1}\n",
      "Step 308: {'X': 0, 'Y': 1, 'Z': 1}\n",
      "Step 309: {'X': 1, 'Y': 1, 'Z': 1}\n",
      "Step 310: {'X': 0, 'Y': 1, 'Z': 1}\n",
      "Step 311: {'X': 1, 'Y': 1, 'Z': 1}\n",
      "Step 312: {'X': 1, 'Y': 1, 'Z': 0}\n",
      "Step 313: {'X': 1, 'Y': 0, 'Z': 0}\n",
      "Step 314: {'X': 1, 'Y': 0, 'Z': 1}\n",
      "Step 315: {'X': 0, 'Y': 0, 'Z': 1}\n",
      "Step 316: {'X': 0, 'Y': 1, 'Z': 1}\n",
      "Step 317: {'X': 1, 'Y': 1, 'Z': 1}\n",
      "Step 318: {'X': 1, 'Y': 0, 'Z': 1}\n",
      "Step 319: {'X': 0, 'Y': 0, 'Z': 1}\n",
      "Step 320: {'X': 1, 'Y': 0, 'Z': 1}\n",
      "Step 321: {'X': 0, 'Y': 0, 'Z': 1}\n",
      "Step 322: {'X': 0, 'Y': 1, 'Z': 1}\n",
      "Step 323: {'X': 1, 'Y': 1, 'Z': 1}\n",
      "Step 324: {'X': 1, 'Y': 0, 'Z': 1}\n",
      "Step 325: {'X': 0, 'Y': 0, 'Z': 1}\n",
      "Step 326: {'X': 0, 'Y': 1, 'Z': 1}\n",
      "Step 327: {'X': 1, 'Y': 1, 'Z': 1}\n",
      "Step 328: {'X': 1, 'Y': 0, 'Z': 1}\n",
      "Step 329: {'X': 0, 'Y': 0, 'Z': 1}\n",
      "Step 330: {'X': 1, 'Y': 0, 'Z': 1}\n",
      "Step 331: {'X': 0, 'Y': 0, 'Z': 1}\n",
      "Step 332: {'X': 1, 'Y': 0, 'Z': 1}\n",
      "Step 333: {'X': 0, 'Y': 0, 'Z': 1}\n",
      "Step 334: {'X': 1, 'Y': 0, 'Z': 1}\n",
      "Step 335: {'X': 0, 'Y': 0, 'Z': 1}\n",
      "Step 336: {'X': 1, 'Y': 0, 'Z': 1}\n",
      "Step 337: {'X': 0, 'Y': 0, 'Z': 1}\n",
      "Step 338: {'X': 0, 'Y': 1, 'Z': 1}\n",
      "Step 339: {'X': 1, 'Y': 1, 'Z': 1}\n",
      "Step 340: {'X': 0, 'Y': 1, 'Z': 1}\n",
      "Step 341: {'X': 1, 'Y': 1, 'Z': 1}\n",
      "Step 342: {'X': 1, 'Y': 1, 'Z': 0}\n",
      "Step 343: {'X': 0, 'Y': 1, 'Z': 0}\n",
      "Step 344: {'X': 1, 'Y': 1, 'Z': 0}\n",
      "Step 345: {'X': 0, 'Y': 1, 'Z': 0}\n",
      "Step 346: {'X': 1, 'Y': 1, 'Z': 0}\n",
      "Step 347: {'X': 1, 'Y': 0, 'Z': 0}\n",
      "Step 348: {'X': 0, 'Y': 0, 'Z': 0}\n",
      "Step 349: {'X': 0, 'Y': 1, 'Z': 0}\n",
      "Step 350: {'X': 0, 'Y': 1, 'Z': 1}\n",
      "Step 351: {'X': 1, 'Y': 1, 'Z': 1}\n",
      "Step 352: {'X': 1, 'Y': 1, 'Z': 0}\n",
      "Step 353: {'X': 1, 'Y': 0, 'Z': 0}\n",
      "Step 354: {'X': 1, 'Y': 0, 'Z': 1}\n",
      "Step 355: {'X': 0, 'Y': 0, 'Z': 1}\n",
      "Step 356: {'X': 1, 'Y': 0, 'Z': 1}\n",
      "Step 357: {'X': 0, 'Y': 0, 'Z': 1}\n",
      "Step 358: {'X': 1, 'Y': 0, 'Z': 1}\n",
      "Step 359: {'X': 0, 'Y': 0, 'Z': 1}\n",
      "Step 360: {'X': 0, 'Y': 1, 'Z': 1}\n",
      "Step 361: {'X': 1, 'Y': 1, 'Z': 1}\n",
      "Step 362: {'X': 1, 'Y': 0, 'Z': 1}\n",
      "Step 363: {'X': 0, 'Y': 0, 'Z': 1}\n",
      "Step 364: {'X': 1, 'Y': 0, 'Z': 1}\n",
      "Step 365: {'X': 0, 'Y': 0, 'Z': 1}\n",
      "Step 366: {'X': 1, 'Y': 0, 'Z': 1}\n",
      "Step 367: {'X': 0, 'Y': 0, 'Z': 1}\n",
      "Step 368: {'X': 0, 'Y': 1, 'Z': 1}\n",
      "Step 369: {'X': 1, 'Y': 1, 'Z': 1}\n",
      "Step 370: {'X': 1, 'Y': 0, 'Z': 1}\n",
      "Step 371: {'X': 0, 'Y': 0, 'Z': 1}\n",
      "Step 372: {'X': 1, 'Y': 0, 'Z': 1}\n",
      "Step 373: {'X': 0, 'Y': 0, 'Z': 1}\n",
      "Step 374: {'X': 1, 'Y': 0, 'Z': 1}\n",
      "Step 375: {'X': 0, 'Y': 0, 'Z': 1}\n",
      "Step 376: {'X': 1, 'Y': 0, 'Z': 1}\n",
      "Step 377: {'X': 0, 'Y': 0, 'Z': 1}\n",
      "Step 378: {'X': 1, 'Y': 0, 'Z': 1}\n",
      "Step 379: {'X': 0, 'Y': 0, 'Z': 1}\n",
      "Step 380: {'X': 1, 'Y': 0, 'Z': 1}\n",
      "Step 381: {'X': 0, 'Y': 0, 'Z': 1}\n",
      "Step 382: {'X': 0, 'Y': 1, 'Z': 1}\n",
      "Step 383: {'X': 1, 'Y': 1, 'Z': 1}\n",
      "Step 384: {'X': 1, 'Y': 1, 'Z': 0}\n",
      "Step 385: {'X': 0, 'Y': 1, 'Z': 0}\n",
      "Step 386: {'X': 0, 'Y': 1, 'Z': 1}\n",
      "Step 387: {'X': 1, 'Y': 1, 'Z': 1}\n",
      "Step 388: {'X': 0, 'Y': 1, 'Z': 1}\n",
      "Step 389: {'X': 1, 'Y': 1, 'Z': 1}\n",
      "Step 390: {'X': 0, 'Y': 1, 'Z': 1}\n",
      "Step 391: {'X': 1, 'Y': 1, 'Z': 1}\n",
      "Step 392: {'X': 1, 'Y': 1, 'Z': 0}\n",
      "Step 393: {'X': 0, 'Y': 1, 'Z': 0}\n",
      "Step 394: {'X': 1, 'Y': 1, 'Z': 0}\n",
      "Step 395: {'X': 1, 'Y': 0, 'Z': 0}\n",
      "Step 396: {'X': 1, 'Y': 0, 'Z': 1}\n",
      "Step 397: {'X': 0, 'Y': 0, 'Z': 1}\n",
      "Step 398: {'X': 1, 'Y': 0, 'Z': 1}\n",
      "Step 399: {'X': 0, 'Y': 0, 'Z': 1}\n",
      "Step 400: {'X': 1, 'Y': 0, 'Z': 1}\n",
      "Step 401: {'X': 0, 'Y': 0, 'Z': 1}\n",
      "Step 402: {'X': 1, 'Y': 0, 'Z': 1}\n",
      "Step 403: {'X': 0, 'Y': 0, 'Z': 1}\n",
      "Step 404: {'X': 0, 'Y': 1, 'Z': 1}\n",
      "Step 405: {'X': 1, 'Y': 1, 'Z': 1}\n",
      "Step 406: {'X': 1, 'Y': 0, 'Z': 1}\n",
      "Step 407: {'X': 0, 'Y': 0, 'Z': 1}\n",
      "Step 408: {'X': 1, 'Y': 0, 'Z': 1}\n",
      "Step 409: {'X': 0, 'Y': 0, 'Z': 1}\n",
      "Step 410: {'X': 0, 'Y': 1, 'Z': 1}\n",
      "Step 411: {'X': 1, 'Y': 1, 'Z': 1}\n",
      "Step 412: {'X': 1, 'Y': 0, 'Z': 1}\n",
      "Step 413: {'X': 0, 'Y': 0, 'Z': 1}\n",
      "Step 414: {'X': 0, 'Y': 1, 'Z': 1}\n",
      "Step 415: {'X': 1, 'Y': 1, 'Z': 1}\n",
      "Step 416: {'X': 1, 'Y': 0, 'Z': 1}\n",
      "Step 417: {'X': 0, 'Y': 0, 'Z': 1}\n",
      "Step 418: {'X': 0, 'Y': 1, 'Z': 1}\n",
      "Step 419: {'X': 1, 'Y': 1, 'Z': 1}\n",
      "Step 420: {'X': 0, 'Y': 1, 'Z': 1}\n",
      "Step 421: {'X': 1, 'Y': 1, 'Z': 1}\n",
      "Step 422: {'X': 0, 'Y': 1, 'Z': 1}\n",
      "Step 423: {'X': 1, 'Y': 1, 'Z': 1}\n",
      "Step 424: {'X': 1, 'Y': 0, 'Z': 1}\n",
      "Step 425: {'X': 0, 'Y': 0, 'Z': 1}\n",
      "Step 426: {'X': 0, 'Y': 1, 'Z': 1}\n",
      "Step 427: {'X': 1, 'Y': 1, 'Z': 1}\n",
      "Step 428: {'X': 0, 'Y': 1, 'Z': 1}\n",
      "Step 429: {'X': 1, 'Y': 1, 'Z': 1}\n",
      "Step 430: {'X': 0, 'Y': 1, 'Z': 1}\n",
      "Step 431: {'X': 1, 'Y': 1, 'Z': 1}\n",
      "Step 432: {'X': 0, 'Y': 1, 'Z': 1}\n",
      "Step 433: {'X': 1, 'Y': 1, 'Z': 1}\n",
      "Step 434: {'X': 1, 'Y': 0, 'Z': 1}\n",
      "Step 435: {'X': 0, 'Y': 0, 'Z': 1}\n",
      "Step 436: {'X': 1, 'Y': 0, 'Z': 1}\n",
      "Step 437: {'X': 0, 'Y': 0, 'Z': 1}\n",
      "Step 438: {'X': 1, 'Y': 0, 'Z': 1}\n",
      "Step 439: {'X': 0, 'Y': 0, 'Z': 1}\n",
      "Step 440: {'X': 0, 'Y': 1, 'Z': 1}\n",
      "Step 441: {'X': 1, 'Y': 1, 'Z': 1}\n",
      "Step 442: {'X': 0, 'Y': 1, 'Z': 1}\n",
      "Step 443: {'X': 1, 'Y': 1, 'Z': 1}\n",
      "Step 444: {'X': 0, 'Y': 1, 'Z': 1}\n",
      "Step 445: {'X': 1, 'Y': 1, 'Z': 1}\n",
      "Step 446: {'X': 1, 'Y': 0, 'Z': 1}\n",
      "Step 447: {'X': 0, 'Y': 0, 'Z': 1}\n",
      "Step 448: {'X': 0, 'Y': 1, 'Z': 1}\n",
      "Step 449: {'X': 1, 'Y': 1, 'Z': 1}\n",
      "Step 450: {'X': 0, 'Y': 1, 'Z': 1}\n",
      "Step 451: {'X': 1, 'Y': 1, 'Z': 1}\n",
      "Step 452: {'X': 0, 'Y': 1, 'Z': 1}\n",
      "Step 453: {'X': 1, 'Y': 1, 'Z': 1}\n",
      "Step 454: {'X': 1, 'Y': 0, 'Z': 1}\n",
      "Step 455: {'X': 0, 'Y': 0, 'Z': 1}\n",
      "Step 456: {'X': 1, 'Y': 0, 'Z': 1}\n",
      "Step 457: {'X': 0, 'Y': 0, 'Z': 1}\n",
      "Step 458: {'X': 1, 'Y': 0, 'Z': 1}\n",
      "Step 459: {'X': 0, 'Y': 0, 'Z': 1}\n",
      "Step 460: {'X': 1, 'Y': 0, 'Z': 1}\n",
      "Step 461: {'X': 0, 'Y': 0, 'Z': 1}\n",
      "Step 462: {'X': 0, 'Y': 1, 'Z': 1}\n",
      "Step 463: {'X': 1, 'Y': 1, 'Z': 1}\n",
      "Step 464: {'X': 1, 'Y': 1, 'Z': 0}\n",
      "Step 465: {'X': 0, 'Y': 1, 'Z': 0}\n",
      "Step 466: {'X': 1, 'Y': 1, 'Z': 0}\n",
      "Step 467: {'X': 0, 'Y': 1, 'Z': 0}\n",
      "Step 468: {'X': 0, 'Y': 1, 'Z': 1}\n",
      "Step 469: {'X': 1, 'Y': 1, 'Z': 1}\n",
      "Step 470: {'X': 1, 'Y': 0, 'Z': 1}\n",
      "Step 471: {'X': 0, 'Y': 0, 'Z': 1}\n",
      "Step 472: {'X': 0, 'Y': 1, 'Z': 1}\n",
      "Step 473: {'X': 1, 'Y': 1, 'Z': 1}\n",
      "Step 474: {'X': 1, 'Y': 1, 'Z': 0}\n",
      "Step 475: {'X': 1, 'Y': 0, 'Z': 0}\n",
      "Step 476: {'X': 1, 'Y': 0, 'Z': 1}\n",
      "Step 477: {'X': 0, 'Y': 0, 'Z': 1}\n",
      "Step 478: {'X': 1, 'Y': 0, 'Z': 1}\n",
      "Step 479: {'X': 0, 'Y': 0, 'Z': 1}\n",
      "Step 480: {'X': 1, 'Y': 0, 'Z': 1}\n",
      "Step 481: {'X': 0, 'Y': 0, 'Z': 1}\n",
      "Step 482: {'X': 1, 'Y': 0, 'Z': 1}\n",
      "Step 483: {'X': 0, 'Y': 0, 'Z': 1}\n",
      "Step 484: {'X': 1, 'Y': 0, 'Z': 1}\n",
      "Step 485: {'X': 0, 'Y': 0, 'Z': 1}\n",
      "Step 486: {'X': 0, 'Y': 1, 'Z': 1}\n",
      "Step 487: {'X': 1, 'Y': 1, 'Z': 1}\n",
      "Step 488: {'X': 1, 'Y': 1, 'Z': 0}\n",
      "Step 489: {'X': 1, 'Y': 0, 'Z': 0}\n",
      "Step 490: {'X': 1, 'Y': 0, 'Z': 1}\n",
      "Step 491: {'X': 0, 'Y': 0, 'Z': 1}\n",
      "Step 492: {'X': 1, 'Y': 0, 'Z': 1}\n",
      "Step 493: {'X': 0, 'Y': 0, 'Z': 1}\n",
      "Step 494: {'X': 0, 'Y': 1, 'Z': 1}\n",
      "Step 495: {'X': 1, 'Y': 1, 'Z': 1}\n",
      "Step 496: {'X': 1, 'Y': 0, 'Z': 1}\n",
      "Step 497: {'X': 0, 'Y': 0, 'Z': 1}\n",
      "Step 498: {'X': 1, 'Y': 0, 'Z': 1}\n",
      "Step 499: {'X': 0, 'Y': 0, 'Z': 1}\n"
     ]
    }
   ],
   "source": [
    "for i, state in enumerate(simulation_history):\n",
    "    print(f\"Step {i}: {state}\")"
   ],
   "metadata": {
    "id": "A_LFG-TqZeUf",
    "outputId": "eb698aa7-7eae-47a5-edcd-3dcfb80d2e99",
    "ExecuteTime": {
     "end_time": "2023-11-29T11:21:52.117284Z",
     "start_time": "2023-11-29T11:21:52.107972Z"
    }
   }
  },
  {
   "cell_type": "markdown",
   "source": [
    "## Analyse the simulation"
   ],
   "metadata": {
    "collapsed": false
   }
  },
  {
   "cell_type": "markdown",
   "source": [
    "### Plot the time evolution of the state of each node"
   ],
   "metadata": {
    "collapsed": false
   }
  },
  {
   "cell_type": "code",
   "execution_count": 50,
   "outputs": [
    {
     "data": {
      "text/plain": "<Figure size 1000x600 with 1 Axes>",
      "image/png": "[encoded data removed]"
     },
     "metadata": {},
     "output_type": "display_data"
    }
   ],
   "source": [
    "import matplotlib.pyplot as plt\n",
    "\n",
    "# Assuming 'history' is your list of states from the simulation\n",
    "steps = range(len(simulation_history))\n",
    "states_X = [state['X'] for state in simulation_history]\n",
    "states_Y = [state['Y'] for state in simulation_history]\n",
    "states_Z = [state['Z'] for state in simulation_history]\n",
    "\n",
    "plt.figure(figsize=(10, 6))\n",
    "#plt.plot(steps, states_X, label='X')\n",
    "plt.plot(steps, states_Y, label='Y')\n",
    "#plt.plot(steps, states_Z, label='Z')\n",
    "\n",
    "plt.xlabel('Simulation Step')\n",
    "plt.ylabel('State')\n",
    "plt.title('State of Each Node Over Time')\n",
    "plt.legend()\n",
    "plt.grid(True)\n",
    "plt.show()\n"
   ],
   "metadata": {
    "id": "FL1EawJ6ZeUf",
    "ExecuteTime": {
     "end_time": "2023-11-29T11:24:30.008942Z",
     "start_time": "2023-11-29T11:24:29.887414Z"
    }
   }
  },
  {
   "cell_type": "markdown",
   "source": [
    "### Compute the State Transition Graph and\n",
    "Prime implicants can be used to derive the state transition graph (STG) of a network. To compute it, use the function `primes2stg` of the module `StateTransitionGraphs`. It returns an instance of the NetworkX digraph class.\n",
    "\n",
    "The second argument to `primes2stg` is either “synchronous” or “asynchronous” for the fully synchronous or the fully asynchronous transition relation, see e.g. [Klarner2015](https://www.frontiersin.org/articles/10.3389/fbioe.2015.00130/full) for a formal definition.\n",
    "\n",
    "The nodes of an STG are string representations of states, e.g. “110”, see states, [subspaces and paths](https://pyboolnet.readthedocs.io/en/master/manual.html#states-subspaces-paths)."
   ],
   "metadata": {
    "collapsed": false
   }
  },
  {
   "cell_type": "code",
   "execution_count": 22,
   "outputs": [
    {
     "data": {
      "text/plain": "['111', '011', '101', '110', '010', '100', '000', '001']"
     },
     "execution_count": 22,
     "metadata": {},
     "output_type": "execute_result"
    }
   ],
   "source": [
    "stg = STGs.primes2stg(primes, \"asynchronous\")\n",
    "list(stg.nodes())[0]\n",
    "list(stg.nodes())"
   ],
   "metadata": {
    "collapsed": false,
    "ExecuteTime": {
     "start_time": "2023-11-29T10:48:15.720393Z"
    }
   }
  },
  {
   "cell_type": "code",
   "execution_count": null,
   "outputs": [],
   "source": [],
   "metadata": {
    "collapsed": false
   }
  }
 ]
}
