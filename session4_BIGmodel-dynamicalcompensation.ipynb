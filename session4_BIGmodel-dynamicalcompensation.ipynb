{
 "cells": [
  {
   "cell_type": "code",
   "execution_count": null,
   "outputs": [],
   "source": [
    "#@title Import Python modules\n",
    "### Import libraries\n",
    "import numpy as np\n",
    "from scipy.integrate import odeint\n",
    "import matplotlib.pyplot as plt\n"
   ],
   "metadata": {
    "collapsed": false
   },
   "id": "d23d6dbaba5232e"
  },
  {
   "cell_type": "markdown",
   "source": [
    "# THE $\\beta$IG MODEL OF GLUCOSE REGULATION\n",
    "## Introduction\n",
    "The $\\beta$IG ($\\beta$-cells, Insulin, Glucose) model refers to a mathematical or conceptual framework used to understand and simulate the regulation of glucose levels in the body, particularly in the context of diabetes research. This model typically focuses on three key components:\n",
    "\n",
    "1. **$\\beta$-cells**: These are cells located in the pancreas that produce insulin. The model often includes mechanisms by which these cells sense blood glucose levels and respond accordingly.\n",
    "\n",
    "2. **Insulin**: This is a hormone produced by $\\beta$-cells that plays a crucial role in regulating blood glucose levels. Insulin facilitates the uptake of glucose by cells in the body, thereby reducing blood glucose levels. The model would typically simulate how insulin is secreted in response to blood glucose levels and how it affects glucose uptake.\n",
    "\n",
    "3. **Glucose**: This is the primary sugar found in the blood and is a major energy source for the body. The model would include how glucose levels change in response to various factors, including food intake, insulin levels, and other physiological processes.\n",
    "\n",
    "The $\\beta$IG model is often used in the study of diabetes, a condition characterized by impaired insulin production (Type 1 diabetes) or insulin resistance (Type 2 diabetes). By simulating how changes in beta-cell function, insulin secretion, and glucose uptake affect overall glucose regulation, researchers can gain insights into the disease process and potential treatments.\n",
    "\n",
    "The specifics of the $\\beta$IG model can vary depending on the research or the specific aspects of glucose regulation being studied. It can range from relatively simple mathematical models to more complex simulations incorporating additional factors like glucagon (another hormone involved in glucose regulation), the role of the liver, and the impact of various medications.\n",
    "\n",
    "### Insulin sensitivity\n",
    "Insulin sensitivity refers to how effectively the body's cells respond to insulin. It varies among individuals and can be influenced by various factors including genetics, lifestyle, and health conditions.\n",
    "\n",
    "- **Genetic Factors**: Genetic makeup can influence insulin sensitivity. Some people may be genetically predisposed to higher insulin sensitivity, while others may have a predisposition to insulin resistance.\n",
    "- **Lifestyle Factors**:\n",
    "   - **Diet**: High-calorie diets, especially those rich in sugars and saturated fats, can decrease insulin sensitivity.\n",
    "   - **Physical Activity**: Regular physical activity increases insulin sensitivity as muscles use more glucose for energy during and after exercise.\n",
    "   - **Body Weight**: Higher body fat, particularly visceral fat around the abdomen, is associated with decreased insulin sensitivity.\n",
    "- **Health Conditions**:\n",
    "   - **Type 2 Diabetes**: This condition is characterized by insulin resistance, where the body's cells do not respond effectively to insulin.\n",
    "   - **Metabolic Syndrome**: A cluster of conditions including high blood pressure, high blood sugar, excess body fat around the waist, and abnormal cholesterol levels, which are linked to reduced insulin sensitivity.\n",
    "   - **Polycystic Ovary Syndrome (PCOS)**: Women with PCOS often experience insulin resistance.\n",
    "- **Age**: Insulin sensitivity generally decreases with age, partly due to loss of muscle mass and increased fat, especially if not countered with physical activity.\n",
    "- **Hormonal Changes**: Hormonal fluctuations, such as those during pregnancy, can affect insulin sensitivity.\n",
    "\n",
    "Improving insulin sensitivity can often be achieved through lifestyle changes such as diet modifications, increased physical activity, and weight loss. In some cases, medication may also be required to manage insulin sensitivity, especially in conditions like type 2 diabetes.\n",
    "\n",
    "In this exercise, we aim you can put together your own analysis of the regulation of glucose levels using the $\\beta$IG model and understand how this model explains the resistance of glucose regulation to changes in insulin sensitivity."
   ],
   "metadata": {
    "collapsed": false
   },
   "id": "6a8954b25f3f6ed5"
  },
  {
   "cell_type": "markdown",
   "source": [
    "## Python functions\n",
    "We define several Python functions so it should be easy to assemble your simulations. Each function is followed by a brief explanation of how to run it. So you can identify the relevant parameters and run the simulations you consider important to perform your analysis."
   ],
   "metadata": {
    "collapsed": false
   },
   "id": "aa4e994213544517"
  },
  {
   "cell_type": "markdown",
   "source": [
    "### The $\\beta$IG model\n",
    "\n",
    "The Python code below implements the $\\beta$IG model, governed by a set of ordinary differential equations (ODEs) that describe how $\\beta$-cells, insulin and glucose change over time in response to physiological factors, such as meal intake.\n",
    "\n",
    "#### Key Components of the Model:\n",
    "\n",
    "1. **Time-Dependent Meal Function**: \n",
    "   - This function models the intake of glucose from meals. It provides a temporary increase in glucose levels ($m$) at specific meal times ($meal_time$) for a given duration ($meal_duration$).\n",
    "\n",
    "2. **ODEs for the BIG Model**: \n",
    "   - The system is described by three coupled differential equations representing the dynamics of glucose, insulin, and beta-cells.\n",
    "\n",
    "#### Parameters:\n",
    "- $m = 20.0$: Glucose input from meals.\n",
    "- $s = 0.01$: Insulin sensitivity.\n",
    "- $gamma = 0.8$: Insulin degradation rate.\n",
    "- $mu = 0$: Growth rate of beta-cells, set to zero in this scenario, indicating a constant beta-cell population.\n",
    "- $meal\\_time = 1$: Time at which meal intake occurs.\n",
    "- $meal\\_duration = 0.15$: Duration of the meal's effect on glucose levels.\n",
    "- $I0 = 10$: Initial insulin level (µU/mL).\n",
    "- $G0 = 5.0$: Initial glucose level, representing a typical fasting level (mM).\n",
    "- $B0 = 1.0$: Initial level of beta-cells.\n",
    "\n",
    "#### ODEs of the Dynamics:\n",
    "The model is described by the following differential equations:\n",
    "\n",
    "1. **Glucose Dynamics**: \n",
    "   $$ \\frac{dG}{dt} = \\text{current_m} - (s \\cdot I \\cdot G) $$\n",
    "   - $current\\_m$ is the glucose input from the meal, calculated by the $meal\\_input$ function.\n",
    "   - $s$ is the insulin sensitivity, and $I$ is the insulin level.\n",
    "\n",
    "2. **Insulin Dynamics**: \n",
    "   $$ \\frac{dI}{dt} = \n",
    "   \\begin{cases} \n",
    "   0, & \\text{if } t < \\text{meal_time} \\\\\n",
    "   B \\cdot f_G - \\gamma \\cdot I, & \\text{otherwise}\n",
    "   \\end{cases} $$\n",
    "   $f_G$ represents the insulin production rate, modeled as a function of glucose levels. Before the meal, insulin production is kept constant. It is modeled using a modified sigmoid function, $f(G) = \\frac{f_{\\text{max}}}{1 + e^{-K \\cdot G}}$.  Where $f_{\\text{max}}$ is the maximum insulin production rate, $K$ is a constant that determines the glucose level for the half-maximal effect, $G$ is the glucose level.\n",
    "\n",
    "This form of $f(G)$ provides a sigmoidal response to glucose levels, which is a common way to model the rate at which insulin is produced in response to changing glucose concentrations. The parameters $f_{\\text{max}}$ and $K$ can be adjusted to fit the specific characteristics of the insulin response curve for different physiological conditions. You can see the shape of $f(G)$ below."
   ],
   "metadata": {
    "collapsed": false
   },
   "id": "b32e6ada8e3855b9"
  },
  {
   "cell_type": "code",
   "execution_count": null,
   "outputs": [],
   "source": [
    "#@title f(g)\n",
    "import numpy as np\n",
    "import matplotlib.pyplot as plt\n",
    "\n",
    "# Parameters for f(G)\n",
    "f_max = 10  # Max insulin production rate\n",
    "K = 4       # Glucose level for half-maximal effect\n",
    "\n",
    "# Function f(G)\n",
    "def f_G(G):\n",
    "    return f_max / (1 + np.exp(-K * G))\n",
    "\n",
    "# Generating a range of glucose levels (G)\n",
    "glucose_levels = np.linspace(0, 5, 100)  # Glucose levels from 0 to 10\n",
    "\n",
    "# Compute f(G) for each glucose level\n",
    "insulin_production_rates = f_G(glucose_levels)\n",
    "\n",
    "# Plotting f(G)\n",
    "plt.figure(figsize=(5, 3))\n",
    "plt.plot(glucose_levels, insulin_production_rates, label='f(G)')\n",
    "plt.xlabel('Glucose Level (G)')\n",
    "plt.ylabel('Insulin Production Rate')\n",
    "#plt.title('Insulin Production Rate as a Function of Glucose Level')\n",
    "#plt.legend()\n",
    "#plt.grid()\n",
    "\n",
    "# Removing the frame (spines)\n",
    "ax = plt.gca()  # Get current axes\n",
    "ax.spines['top'].set_visible(False)\n",
    "ax.spines['right'].set_visible(False)\n",
    "ax.spines['bottom'].set_visible(True)\n",
    "ax.spines['left'].set_visible(True)\n",
    "plt.show()\n",
    "\n"
   ],
   "metadata": {
    "collapsed": false
   },
   "id": "492793f0d25b83f8"
  },
  {
   "cell_type": "markdown",
   "source": [
    "\n",
    "3. **$\\beta$-Cell Dynamics**: \n",
    "   $$ \\frac{dB}{dt} = \\mu \\cdot B $$\n",
    "   - $\\mu$ represents the growth rate of $\\beta$-cells. In this scenario, it is set to zero, implying no change in the $\\beta$-cell population over time.\n",
    "\n",
    "This implementation provides a detailed simulation of glucose-insulin dynamics, especially in response to meals, and can be used to study various physiological states, such as normal glucose regulation and conditions like insulin resistance.\n",
    "\n",
    "This is the first and more important Python function. it contains the definition of the $\\beta$IG model. Be sure to run it so you can put together your simulation"
   ],
   "metadata": {
    "collapsed": false
   },
   "id": "3e5d8cbb810b29b8"
  },
  {
   "cell_type": "code",
   "execution_count": null,
   "outputs": [],
   "source": [
    "#@title The BIG model\n",
    "# Define a time-dependent meal function\n",
    "def meal_input(t, m, meal_time, meal_duration):\n",
    "    if meal_time <= t < meal_time + meal_duration:\n",
    "        return m\n",
    "    else:\n",
    "        return 0\n",
    "\n",
    "# Define the ODEs for the BIG model\n",
    "def BIG_model(y, t, m, s, B, gamma, mu, meal_time, meal_duration, I0):\n",
    "    G, I, B = y\n",
    "    f_max = 10   # Max insulin production rate (internal parameter)\n",
    "    K = 4       # Glucose level for half-maximal effect (internal parameter)\n",
    "    n = 4       # Hill coefficient (internal parameter)\n",
    "\n",
    "    # Insulin production model changes after meal\n",
    "    if t < meal_time:\n",
    "        dIdt = 0  # Keeping insulin level constant before the meal\n",
    "    else:\n",
    "        #f_G = 1.5*G\n",
    "        #f_G = f_max / (1 + (G/K)**n) # Decreasing Hill-type function for f(G)\n",
    "        f_G = f_max / (1 + np.exp(-K * G)) \n",
    "        dIdt = B * f_G - gamma * I\n",
    "\n",
    "    current_m = meal_input(t, m, meal_time, meal_duration)  # Get current meal input\n",
    "    dGdt = current_m - (s * I * G)\n",
    "    dBdt = mu * B\n",
    "    return [dGdt, dIdt, dBdt]"
   ],
   "metadata": {
    "collapsed": false
   },
   "id": "3958ab1804e0f77e"
  },
  {
   "cell_type": "markdown",
   "source": [
    "#### How to run a simple simulation of the $\\beta$IG model\n",
    "The code below loads the model above, solves the ODEs and plot the results.\n",
    "[Description of the parameters]"
   ],
   "metadata": {
    "collapsed": false
   },
   "id": "d3093c76071e9f83"
  },
  {
   "cell_type": "code",
   "execution_count": null,
   "outputs": [],
   "source": [
    "#@title Running the BIG model\n",
    "def run_BIG_simulation(m, s, gamma, mu, meal_time, meal_duration, I0):\n",
    "    # Initial conditions\n",
    "    G0 = 5.0    # Initial glucose level (mM), typical fasting level\n",
    "    B0 = 1.0    # Initial beta-cell level (arbitrary units), assuming a healthy baseline\n",
    "\n",
    "    # Time points (e.g., 0 to 10 hours)\n",
    "    t = np.linspace(0, 5, 100)  # 10 hours simulation\n",
    "\n",
    "    # Solve ODEs\n",
    "    solution = odeint(BIG_model, [G0, I0, B0], t, args=(m, s, B0, gamma, mu, meal_time, meal_duration, I0))\n",
    "\n",
    "    # Plot results\n",
    "    plt.figure(figsize=(10, 8))\n",
    "    plt.plot(t, solution[:, 0], label='Glucose (G) [mM]')\n",
    "    plt.plot(t, solution[:, 1], label='Insulin (I) [µU/mL]')\n",
    "    plt.plot(t, solution[:, 2], label=r'$\\beta$-cells (B)')\n",
    "    plt.xlabel('Time (hours)')\n",
    "    plt.ylabel('Concentration/Level')\n",
    "    plt.title(r'Dynamics of the $\\beta$IG Model with Meal Input')\n",
    "    plt.axvline(x=meal_time, color='grey', linestyle='--', label='Meal intake')\n",
    "    plt.legend()\n",
    "    plt.grid()\n",
    "    plt.show()"
   ],
   "metadata": {
    "collapsed": false
   },
   "id": "2105e530e04ff490"
  },
  {
   "cell_type": "code",
   "execution_count": null,
   "outputs": [],
   "source": [
    "# Example usage\n",
    "run_BIG_simulation(m=20.0, s=0.01, gamma=0.8, mu=0 , meal_time=1, meal_duration=0.15, I0=10)\n"
   ],
   "metadata": {
    "collapsed": false
   },
   "id": "66beff79875114a2"
  },
  {
   "cell_type": "markdown",
   "source": [
    "### Simple simulation with two values of insulin sensitivity\n",
    "This simulation can help you to observe how the system depends on $s$. Glucose levels do not fall back to fasting steady state after a meal. "
   ],
   "metadata": {
    "collapsed": false
   },
   "id": "3a1a1197eec96d62"
  },
  {
   "cell_type": "code",
   "execution_count": null,
   "outputs": [],
   "source": [
    "#@title Insulin sensitivity\n",
    "def run_BIG_simulation_analysis(m, gamma, mu, meal_time, meal_duration, I0):\n",
    "    # Range of insulin sensitivities to analyze\n",
    "    s_values = np.linspace(0.001, 0.01, 2)  # Example range from very low to higher sensitivity\n",
    "\n",
    "    # Initial conditions\n",
    "    G0 = 5.0    # Initial glucose level (mM), typical fasting level\n",
    "    B0 = 1.0    # Initial beta-cell level (arbitrary units), assuming a healthy baseline\n",
    "\n",
    "    # Time points (0 to 10 hours)\n",
    "    t = np.linspace(0, 5, 100)\n",
    "\n",
    "    plt.figure(figsize=(10, 8))\n",
    "\n",
    "    for s in s_values:\n",
    "        # Solve ODEs for each s value\n",
    "        solution = odeint(BIG_model, [G0, I0, B0], t, args=(m, s, B0, gamma, mu, meal_time, meal_duration, I0))\n",
    "        # Plot glucose levels\n",
    "        plt.plot(t, solution[:, 0], label=f's = {s:.3f}')\n",
    "\n",
    "    plt.xlabel('Time (hours)')\n",
    "    plt.ylabel('Glucose (G) [mM]')\n",
    "    plt.title('Glucose Levels for Different Insulin Sensitivities')\n",
    "    plt.axvline(x=meal_time, color='grey', linestyle='--', label='Meal intake')\n",
    "    plt.legend()\n",
    "    plt.grid()\n",
    "    plt.show()"
   ],
   "metadata": {
    "collapsed": false
   },
   "id": "defe7c1e0a7b2142"
  },
  {
   "cell_type": "code",
   "execution_count": null,
   "outputs": [],
   "source": [
    "# Example usage \n",
    "run_BIG_simulation_analysis(m=20.0, gamma=0.8, mu=0.0, meal_time=1, meal_duration=0.15, I0=10)"
   ],
   "metadata": {
    "collapsed": false
   },
   "id": "a34319a6f3a059fa"
  },
  {
   "cell_type": "markdown",
   "source": [
    "### Multi-day simulation of the $\\beta$IG model\n",
    "This is a simulation over five days. We need to get this perspective, because the dynamical compensation takes several days to build up, since it is based on ramping up the production of $\\beta$-cells in the pancreas.\n",
    "\n",
    "Again, make sure you understand the parameters involved. Notice that this function can be used to set up a simulation with two $s$ values. You will need to do that to illustrate that the system depends on $s$ throughout the five days."
   ],
   "metadata": {
    "collapsed": false
   },
   "id": "e42f2d4cdadf18a"
  },
  {
   "cell_type": "code",
   "execution_count": null,
   "outputs": [],
   "source": [
    "#@title Multi-day simulation\n",
    "def run_extended_simulation(m, s_values, gamma, meal_time, meal_duration, I0, B0, num_days):\n",
    "    plt.figure(figsize=(15, 10))\n",
    "\n",
    "    # Define colors and line styles for each s value\n",
    "    plot_styles = {s_values[0]: {'color': 'blue', 'linestyle': '-'} \n",
    "                   #, s_values[1]: {'color': 'red', 'linestyle': '--'}\n",
    "                   }\n",
    "\n",
    "    for s in s_values:\n",
    "        B = B0\n",
    "\n",
    "        for day in range(num_days):\n",
    "            # Reset initial glucose level to 5 mM at the start of each day\n",
    "            G0 = 5.0\n",
    "\n",
    "            # Define time range for each day, ending 5 hours after the meal\n",
    "            day_start = day * 24\n",
    "            day_end = day_start + meal_time + 5\n",
    "            t_day = np.linspace(day_start, day_end, int((meal_time + 5) * 10))\n",
    "\n",
    "            # Solve ODEs for the specified time range of the day\n",
    "            day_solution = odeint(BIG_model, [G0, I0, B], t_day, args=(m, s, B, gamma, 0, meal_time + day*24, meal_duration, I0))\n",
    "\n",
    "            # Plot each day's glucose levels with consistent style for each s value\n",
    "            plt.plot(t_day, day_solution[:, 0], label=f's = {s:.4f}' if day == 0 else \"\", \n",
    "                     color=plot_styles[s]['color'], linestyle=plot_styles[s]['linestyle'])\n",
    "\n",
    "            # Draw vertical line for meal input\n",
    "            plt.axvline(x=meal_time + day*24, color='grey', linestyle='--')\n",
    "\n",
    "    plt.xlabel('Time (hours)')\n",
    "    plt.ylabel('Glucose (G) [mM]')\n",
    "    plt.title('Extended Glucose Levels')\n",
    "    plt.ylim(bottom=4)\n",
    "    plt.legend()\n",
    "    plt.grid()\n",
    "    plt.show()\n",
    "\n",
    "# Example usage with two values of s over 5 days\n",
    "s_optimal = 0.01  # Optimal insulin sensitivity\n",
    "s_resistant = 0.005  # Lower insulin sensitivity to simulate insulin resistance"
   ],
   "metadata": {
    "collapsed": false
   },
   "id": "c39a36f7430e8efa"
  },
  {
   "cell_type": "code",
   "execution_count": null,
   "outputs": [],
   "source": [
    "run_extended_simulation(m=20.0, s_values=[s_optimal], gamma=0.8, meal_time=1, meal_duration=0.15, I0=10, B0=1, num_days=5)"
   ],
   "metadata": {
    "collapsed": false
   },
   "id": "41027368a5bedd8f"
  },
  {
   "cell_type": "markdown",
   "source": [
    "### Multi-day simulation of the $\\beta$IG model with two $s$ values\n",
    "This simulation illustrates the effect of insulin resistance, represented by $s_{\\text{resistant}}$. Observe how insulin resistance works over the five days."
   ],
   "metadata": {
    "collapsed": false
   },
   "id": "5991af4b43a1db7d"
  },
  {
   "cell_type": "code",
   "execution_count": null,
   "outputs": [],
   "source": [
    "#@title Multi-day with insulin resistance\n",
    "def run_extended_simulation_s(m, s_values, gamma, meal_time, meal_duration, I0, B0, num_days):\n",
    "    plt.figure(figsize=(15, 10))\n",
    "\n",
    "    # Define colors and line styles for each s value\n",
    "    plot_styles = {s_values[0]: {'color': 'blue', 'linestyle': '-'} \n",
    "                   , s_values[1]: {'color': 'red', 'linestyle': '--'}\n",
    "                   }\n",
    "\n",
    "    for s in s_values:\n",
    "        B = B0\n",
    "\n",
    "        for day in range(num_days):\n",
    "            # Reset initial glucose level to 5 mM at the start of each day\n",
    "            G0 = 5.0\n",
    "\n",
    "            # Define time range for each day, ending 5 hours after the meal\n",
    "            day_start = day * 24\n",
    "            day_end = day_start + meal_time + 5\n",
    "            t_day = np.linspace(day_start, day_end, int((meal_time + 5) * 10))\n",
    "\n",
    "            # Solve ODEs for the specified time range of the day\n",
    "            day_solution = odeint(BIG_model, [G0, I0, B], t_day, args=(m, s, B, gamma, 0, meal_time + day*24, meal_duration, I0))\n",
    "\n",
    "            # Plot each day's glucose levels with consistent style for each s value\n",
    "            plt.plot(t_day, day_solution[:, 0], label=f's = {s:.4f}' if day == 0 else \"\", \n",
    "                     color=plot_styles[s]['color'], linestyle=plot_styles[s]['linestyle'])\n",
    "\n",
    "            # Draw vertical line for meal input\n",
    "            plt.axvline(x=meal_time + day*24, color='grey', linestyle='--')\n",
    "\n",
    "    plt.xlabel('Time (hours)')\n",
    "    plt.ylabel('Glucose (G) [mM]')\n",
    "    plt.title('Extended Glucose Levels for Different Insulin Sensitivities')\n",
    "    plt.ylim(bottom=4)\n",
    "    plt.legend()\n",
    "    plt.grid()\n",
    "    plt.show()\n",
    "\n",
    "# Example usage with two values of s over 5 days\n",
    "s_optimal = 0.01  # Optimal insulin sensitivity\n",
    "s_resistant = 0.005  # Lower insulin sensitivity to simulate insulin resistance"
   ],
   "metadata": {
    "collapsed": false
   },
   "id": "ed5400789aa0806d"
  },
  {
   "cell_type": "code",
   "execution_count": null,
   "outputs": [],
   "source": [
    "run_extended_simulation_s(m=20.0, s_values=[s_optimal, s_resistant], gamma=0.8, meal_time=1, meal_duration=0.15, I0=10, B0=1, num_days=5)"
   ],
   "metadata": {
    "collapsed": false
   },
   "id": "92dd0c7b9eba3235"
  },
  {
   "cell_type": "markdown",
   "source": [
    "### Multi-day simulation of the $\\beta$IG model with dynamical compensation\n",
    "To simulate dynamical compensation through an increase in beta-cell functional mass (represented by $B$) over five days, we can adjust $B$ gradually in each simulation. The goal is to test how increasing $B$ helps compensate for lower insulin sensitivity (represented by $s_{\\text{resistant}}$).\n",
    "\n",
    "We'll simulate with $s = s_{\\text{resistant}}$ and vary $B$ from $B_0$ (with $\\mu = 0$, meaning no growth) up to $B_0 \\times \\frac{s_{\\text{optimal}}}{s_{\\text{resistant}}}$ (representing a compensatory increase in $\\beta$-cell mass).\n",
    "\n",
    "The growth rate of $\\beta$-cells ($\\mu$) can be set to achieve the target $B$ over five days. To do this, we'll calculate \\mu based on the desired growth and incorporate this into the simulation.\n",
    "\n",
    "In this setup, `compensation_simulation` calculates the required growth rate $\\mu$ to increase $B$ from \\B_0 to the target $B$ over five days. Each day's simulation updates $B$ based on this growth rate. This model will allow you to observe the effect of increasing beta-cell mass in compensating for reduced insulin sensitivity."
   ],
   "metadata": {
    "collapsed": false
   },
   "id": "d9eda86e1216b8d4"
  },
  {
   "cell_type": "code",
   "execution_count": null,
   "outputs": [],
   "source": [
    "#@title Multi-day dynamic compensation\n",
    "def compensation_simulation(m, s_resistant, gamma, meal_time, meal_duration, I0, B0, num_days, s_optimal):\n",
    "    plt.figure(figsize=(15, 10))\n",
    "\n",
    "    # Target B after num_days to achieve compensation\n",
    "    B_target = B0 * s_optimal / s_resistant\n",
    "\n",
    "    # Calculate daily growth rate to reach B_target in num_days\n",
    "    mu = (B_target / B0) ** (1 / num_days) - 1\n",
    "\n",
    "    # Create a label for the s value\n",
    "    plt.plot([], [], ' ', label=f's = {s_resistant:.4f}')\n",
    "\n",
    "    for day in range(num_days):\n",
    "        # Update B for the next day based on calculated growth rate\n",
    "        B = B0 * (1 + mu) ** day\n",
    "\n",
    "        # Reset initial glucose level to 5 mM at the start of each day\n",
    "        G0 = 5.0\n",
    "\n",
    "        # Define time range for each day, ending 5 hours after the meal\n",
    "        day_start = day * 24\n",
    "        day_end = day_start + meal_time + 5\n",
    "        t_day = np.linspace(day_start, day_end, int((meal_time + 5) * 10))\n",
    "\n",
    "        # Solve ODEs for the specified time range of the day\n",
    "        day_solution = odeint(BIG_model, [G0, I0, B], t_day, args=(m, s_resistant, B, gamma, 0, meal_time + day*24, meal_duration, I0))\n",
    "\n",
    "        # Plot each day's glucose levels with a label for B\n",
    "        plt.plot(t_day, day_solution[:, 0], color='red', label=f'Day {day+1}, B = {B:.2f}')\n",
    "\n",
    "        # Draw vertical line for meal input\n",
    "        plt.axvline(x=meal_time + day*24, color='grey', linestyle='--')\n",
    "\n",
    "    plt.xlabel('Time (hours)')\n",
    "    plt.ylabel('Glucose (G) [mM]')\n",
    "    plt.title(r'Glucose Levels with $\\beta$-Cell Compensation ($s_{resistant} = ' + f'{s_resistant}' + r', B_0 = ' + f'{B0}' + r'$)')\n",
    " #Using a raw string (with r before the opening quote) tells Python to treat backslashes as literal characters, which is important for LaTeX commands in Matplotlib\n",
    "\n",
    "\n",
    "    plt.ylim(bottom=4)\n",
    "    plt.legend()\n",
    "    plt.grid()\n",
    "    plt.show()\n"
   ],
   "metadata": {
    "collapsed": false
   },
   "id": "bc8da1fa933ad8b2"
  },
  {
   "cell_type": "code",
   "execution_count": null,
   "outputs": [],
   "source": [
    "# Example usage with s_resistant over 5 days and compensatory beta-cell growth\n",
    "s_optimal = 0.01  # Optimal insulin sensitivity\n",
    "s_resistant = 0.005  # Lower insulin sensitivity\n",
    "compensation_simulation(m=20.0, s_resistant=s_resistant, gamma=0.8, meal_time=1, meal_duration=0.15, I0=10, B0=1, num_days=5, s_optimal=s_optimal)"
   ],
   "metadata": {
    "collapsed": false
   },
   "id": "b9e870037a211088"
  }
 ],
 "metadata": {
  "kernelspec": {
   "display_name": "Python 3",
   "language": "python",
   "name": "python3"
  },
  "language_info": {
   "codemirror_mode": {
    "name": "ipython",
    "version": 2
   },
   "file_extension": ".py",
   "mimetype": "text/x-python",
   "name": "python",
   "nbconvert_exporter": "python",
   "pygments_lexer": "ipython2",
   "version": "2.7.6"
  }
 },
 "nbformat": 4,
 "nbformat_minor": 5
}
