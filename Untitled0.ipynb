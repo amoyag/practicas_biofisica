{
 "nbformat": 4,
 "nbformat_minor": 0,
 "metadata": {
  "colab": {
   "provenance": [],
   "authorship_tag": "ABX9TyO4Wk677Qo9NKhjWeL/jwxr"
  },
  "kernelspec": {
   "name": "python3",
   "display_name": "Python 3"
  },
  "language_info": {
   "name": "python"
  }
 },
 "cells": [
  {
   "cell_type": "code",
   "execution_count": null,
   "outputs": [],
   "source": [
    "\n",
    "#bnet = \"\\n\".join([\"v1, v1|v3\",\"v2, 1\", \"v3, v1&!v2 | !v1&v2\"])\n",
    "#primes = FileExchange.bnet2primes(bnet)\n",
    "G = ig.primes2igraph(primes)\n",
    "\n",
    "### check edge attributes\n",
    "for u, v, attr in G.edges(data=True):\n",
    "    print(f\"Edge from {u} to {v} has attributes: {attr}\")\n",
    "\n",
    "\n",
    "\n",
    "G.edges(data=True)\n",
    "\n",
    "\n"
   ],
   "metadata": {
    "collapsed": false
   }
  },
  {
   "cell_type": "code",
   "execution_count": null,
   "outputs": [],
   "source": [
    "## verify edge types\n",
    "\n",
    "for u, v, attr in G.edges(data=True):\n",
    "    edge_type = attr.get('sign')\n",
    "    if edge_type == {1}:\n",
    "        print(f\"Activator edge: {u} -> {v}\")\n",
    "    elif edge_type == {-1}:\n",
    "        print(f\"Inhibitor edge: {u} -| {v}\")\n",
    "    else:\n",
    "        print(f\"Edge {u} -> {v} has unknown or no type\")\n"
   ],
   "metadata": {
    "collapsed": false
   }
  },
  {
   "cell_type": "code",
   "execution_count": null,
   "outputs": [],
   "source": [
    "# Separate Edges Based on the 'sign' Attribute\n",
    "edges_positive = [(u, v) for u, v, d in G.edges(data=True) if d.get('sign') == {1}]\n",
    "edges_negative = [(u, v) for u, v, d in G.edges(data=True) if d.get('sign') == {-1}]\n",
    "\n",
    "##  Draw nodes and edges\n",
    "pos = nx.spring_layout(G)  # You can choose a different layout if you prefer\n",
    "nx.draw_networkx_nodes(G, pos, node_color='lightblue', node_size=700)\n",
    "\n",
    "# Draw positive edges with standard arrowhead\n",
    "nx.draw_networkx_edges(G, pos, edgelist=edges_positive, edge_color='green', arrows=True)\n",
    "\n",
    "# Draw negative edges with T-shaped arrowhead\n",
    "nx.draw_networkx_edges(G, pos, edgelist=edges_negative, edge_color='red', arrows=True, arrowstyle='-|>')\n",
    "\n",
    "## Add labels and show the plot\n",
    "nx.draw_networkx_labels(G, pos)\n",
    "plt.title(\"Graph with Different Edge Types\")\n",
    "plt.show()\n"
   ],
   "metadata": {
    "collapsed": false
   }
  },
  {
   "cell_type": "markdown",
   "source": [
    "## State transition graphs\n",
    "You may use NetworkX functions on stg, for example [networkx.has_path:](https://networkx.github.io/documentation/stable/reference/algorithms/generated/networkx.algorithms.shortest_paths.generic.has_path.html#networkx.algorithms.shortest_paths.generic.has_path)"
   ],
   "metadata": {
    "collapsed": false
   }
  },
  {
   "cell_type": "code",
   "execution_count": null,
   "outputs": [],
   "source": [
    "update = \"synchronous\"\n",
    "stg = STGs.primes2stg(primes, update)\n",
    "list(stg.nodes())[0]\n",
    "nx.has_path(stg, \"100\", \"111\")\n"
   ],
   "metadata": {
    "collapsed": false
   }
  },
  {
   "cell_type": "markdown",
   "source": [
    "## Attractor detection\n",
    "Attractors capture the long-term activities of the components of Boolean networks. Two different types of attractors are possible: either all activities stabilize at some values and the network enters a steady state or at least one component shows sustained oscillations and the network enters a cyclic attractor. Formally, attractors are defined as the inclusion-wise minimal trap sets of a given STG (state transition graph) which is equivalent to the so-called terminal SCCs (strongly connected components)  of the state transition graph. One approach to computing the attractors is to use Tarjan’s algorithm for computing the SCCs of a directed graph, see [Tarjan1972](https://pyboolnet.readthedocs.io/en/master/bibliography.html#tarjan1972) and then to select those SCCs that are terminal, i.e., those for which there is no path to another SCC. This approach is implemented in the function `compute_attractors_tarjan.\n"
   ],
   "metadata": {
    "collapsed": false
   }
  },
  {
   "cell_type": "code",
   "execution_count": null,
   "outputs": [],
   "source": [
    "attractors = AD.compute_attractors_tarjan(stg)\n",
    "#for A in attractors:\n",
    "#  print([STGs.state2str(x) for x in A])\n",
    "x = attractors[1]\n",
    "x[0]\n",
    "#STGs.state2str(x)\n",
    "\n",
    "\n",
    "## plot the graph\n",
    "nx.draw(G, with_labels=True, node_color='lightblue', edge_color='gray')\n",
    "plt.show()"
   ],
   "metadata": {
    "collapsed": false
   }
  }
 ]
}
